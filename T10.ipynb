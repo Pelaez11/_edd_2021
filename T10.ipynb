{
  "nbformat": 4,
  "nbformat_minor": 0,
  "metadata": {
    "colab": {
      "name": "T10.ipynb",
      "provenance": [],
      "collapsed_sections": [],
      "authorship_tag": "ABX9TyMfhDF5gpXZyMfBN1x+mkQa",
      "include_colab_link": true
    },
    "kernelspec": {
      "name": "python3",
      "display_name": "Python 3"
    }
  },
  "cells": [
    {
      "cell_type": "markdown",
      "metadata": {
        "id": "view-in-github",
        "colab_type": "text"
      },
      "source": [
        "<a href=\"https://colab.research.google.com/github/Pelaez11/_edd_2021/blob/master/T10.ipynb\" target=\"_parent\"><img src=\"https://colab.research.google.com/assets/colab-badge.svg\" alt=\"Open In Colab\"/></a>"
      ]
    },
    {
      "cell_type": "code",
      "metadata": {
        "colab": {
          "base_uri": "https://localhost:8080/"
        },
        "id": "r8DlJlDWTB-z",
        "outputId": "0e67a336-b63b-43d8-f6b8-6a8cf5d31b46"
      },
      "source": [
        "# Lista de números enteros con suma de recursividad\r\n",
        "\r\n",
        "ln = [5, 8, 20, 10, 9, 4, 1]\r\n",
        "\r\n",
        "def sumalist( listn ):\r\n",
        "\r\n",
        "  if len( listn ) == 0:\r\n",
        "    return 0\r\n",
        "  else:\r\n",
        "    return listn.pop() + sumalist(listn)\r\n",
        "\r\n",
        "print(sumalist(ln))"
      ],
      "execution_count": 11,
      "outputs": [
        {
          "output_type": "stream",
          "text": [
            "57\n"
          ],
          "name": "stdout"
        }
      ]
    },
    {
      "cell_type": "code",
      "metadata": {
        "colab": {
          "base_uri": "https://localhost:8080/"
        },
        "id": "55KSAKaSU8QR",
        "outputId": "783f371c-6e7e-412e-db81-8a39ae3ee19c"
      },
      "source": [
        " # Contador recursivo\r\n",
        "\r\n",
        " def cont(r):\r\n",
        "   if r == 0:\r\n",
        "    return \"Corran\"\r\n",
        "   else:\r\n",
        "    print(r)\r\n",
        "    return cont(r - 1)\r\n",
        "\r\n",
        " print(cont(5))"
      ],
      "execution_count": 27,
      "outputs": [
        {
          "output_type": "stream",
          "text": [
            "5\n",
            "4\n",
            "3\n",
            "2\n",
            "1\n",
            "Corran\n"
          ],
          "name": "stdout"
        }
      ]
    }
  ]
}