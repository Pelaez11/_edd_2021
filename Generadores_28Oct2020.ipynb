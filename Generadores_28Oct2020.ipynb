{
  "nbformat": 4,
  "nbformat_minor": 0,
  "metadata": {
    "colab": {
      "name": "Generadores 28Oct2020.ipynb",
      "provenance": [],
      "authorship_tag": "ABX9TyO68DnByyNGiraWkAwPv/qv",
      "include_colab_link": true
    },
    "kernelspec": {
      "name": "python3",
      "display_name": "Python 3"
    }
  },
  "cells": [
    {
      "cell_type": "markdown",
      "metadata": {
        "id": "view-in-github",
        "colab_type": "text"
      },
      "source": [
        "<a href=\"https://colab.research.google.com/github/Pelaez11/_edd_2021/blob/master/Generadores_28Oct2020.ipynb\" target=\"_parent\"><img src=\"https://colab.research.google.com/assets/colab-badge.svg\" alt=\"Open In Colab\"/></a>"
      ]
    },
    {
      "cell_type": "markdown",
      "metadata": {
        "id": "iO1mwmGQGtXr"
      },
      "source": [
        "#GENERADORES"
      ]
    },
    {
      "cell_type": "code",
      "metadata": {
        "id": "j-K9hUFmGpGK",
        "outputId": "e4aaf891-4fde-4813-9a3f-ba24cd6e7fc5",
        "colab": {
          "base_uri": "https://localhost:8080/"
        }
      },
      "source": [
        "datos = [ x+1 for x in range(10) ] #Se puede hacer una operación o algo sobre la x en el generador\n",
        "print(datos)\n",
        "\n",
        "basura = [\"manzana\", \"pera\"]\n",
        "datos = [ x.upper() for x in basura ] \n",
        "print(basura)"
      ],
      "execution_count": 6,
      "outputs": [
        {
          "output_type": "stream",
          "text": [
            "[1, 2, 3, 4, 5, 6, 7, 8, 9, 10]\n",
            "['manzana', 'pera']\n"
          ],
          "name": "stdout"
        }
      ]
    },
    {
      "cell_type": "markdown",
      "metadata": {
        "id": "O9RUvX8xIVYF"
      },
      "source": [
        "[ [0,0,0],\n",
        "  [0,0,0],\n",
        "  [0,0,0] ]"
      ]
    },
    {
      "cell_type": "code",
      "metadata": {
        "id": "0iuvtjdIIrEU",
        "outputId": "83df1c68-fee8-4a86-8972-38d1051b0ee2",
        "colab": {
          "base_uri": "https://localhost:8080/"
        }
      },
      "source": [
        "# Lista 2 D\n",
        "dos_d = [ [0 for x in range(3)] for x in range(3)] #generado anidado\n",
        "print(dos_d)\n",
        "print(\"ó\")\n",
        "ren = 4\n",
        "col =6\n",
        "dos_d = [ [0 for x in range(col)] for x in range(ren)]\n",
        "print(dos_d)"
      ],
      "execution_count": 10,
      "outputs": [
        {
          "output_type": "stream",
          "text": [
            "[[0, 0, 0], [0, 0, 0], [0, 0, 0]]\n",
            "ó\n",
            "[[0, 0, 0, 0, 0, 0], [0, 0, 0, 0, 0, 0], [0, 0, 0, 0, 0, 0], [0, 0, 0, 0, 0, 0]]\n"
          ],
          "name": "stdout"
        }
      ]
    }
  ]
}