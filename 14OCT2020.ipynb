{
  "nbformat": 4,
  "nbformat_minor": 0,
  "metadata": {
    "colab": {
      "name": "14OCT2020.ipynb",
      "provenance": [],
      "authorship_tag": "ABX9TyOVLH7tnsD1jCno3n8QG11a",
      "include_colab_link": true
    },
    "kernelspec": {
      "name": "python3",
      "display_name": "Python 3"
    }
  },
  "cells": [
    {
      "cell_type": "markdown",
      "metadata": {
        "id": "view-in-github",
        "colab_type": "text"
      },
      "source": [
        "<a href=\"https://colab.research.google.com/github/Pelaez11/_edd_2021/blob/master/14OCT2020.ipynb\" target=\"_parent\"><img src=\"https://colab.research.google.com/assets/colab-badge.svg\" alt=\"Open In Colab\"/></a>"
      ]
    },
    {
      "cell_type": "code",
      "metadata": {
        "id": "9SoEtdrDpQ7k",
        "outputId": "81636d3f-4965-49e5-a20b-0489de67f482",
        "colab": {
          "base_uri": "https://localhost:8080/",
          "height": 67
        }
      },
      "source": [
        "def calcular(a, b, c):\n",
        "  x = a + (b / c)\n",
        "  return x\n",
        "\n",
        "print(calcular(5, 9, 3))\n",
        "print(calcular(a=5, c=3, b=9)) #Menciona el valor para cada variable.\n",
        "\n",
        "def calc_v2(a=10, b=20, c=5): #Porposiciones se asignan valor\n",
        "  x = a + (b / c)\n",
        "  return x\n",
        "\n",
        "print(calc_v2(c=2, a=40, b=8 )) #Explicitas\n",
        "\n",
        "\n"
      ],
      "execution_count": 4,
      "outputs": [
        {
          "output_type": "stream",
          "text": [
            "8.0\n",
            "8.0\n",
            "44.0\n"
          ],
          "name": "stdout"
        }
      ]
    },
    {
      "cell_type": "markdown",
      "metadata": {
        "id": "AnxaSQbprxkz"
      },
      "source": [
        "# Argumentos a funciones por tupla * \n",
        "Se envia los argumentos en un conjunto de elementos dentro de una tupla.\n"
      ]
    },
    {
      "cell_type": "code",
      "metadata": {
        "id": "8NULv16_r_sS",
        "outputId": "6ec84b3b-a30c-4096-d186-e6c33c0003f7",
        "colab": {
          "base_uri": "https://localhost:8080/",
          "height": 50
        }
      },
      "source": [
        "def calculo(*elem):\n",
        "  print(elem)\n",
        "  x = elem[0] + (elem[1]  / elem[2])\n",
        "  return x\n",
        "\n",
        "print(calculo(5,9,3))\n",
        "                 \n"
      ],
      "execution_count": 7,
      "outputs": [
        {
          "output_type": "stream",
          "text": [
            "(5, 9, 3)\n",
            "8.0\n"
          ],
          "name": "stdout"
        }
      ]
    },
    {
      "cell_type": "markdown",
      "metadata": {
        "id": "6KN4uPM4sv-f"
      },
      "source": [
        "#Argumentos como dicionario **"
      ]
    },
    {
      "cell_type": "code",
      "metadata": {
        "id": "8PY9QwQKteJR",
        "outputId": "dbd7bf9d-3d7d-4d8e-a6c6-81b388fd59e4",
        "colab": {
          "base_uri": "https://localhost:8080/",
          "height": 50
        }
      },
      "source": [
        "def calculo( **elem ):\n",
        "  print(elem)\n",
        "  x = elem['a'] + (elem['b'] / elem['c'] ) #Da el valor que tiene cada letra.\n",
        "  return x\n",
        "\n",
        "print(calculo(a=5, b=9, c=3))"
      ],
      "execution_count": 9,
      "outputs": [
        {
          "output_type": "stream",
          "text": [
            "{'a': 5, 'b': 9, 'c': 3}\n",
            "8.0\n"
          ],
          "name": "stdout"
        }
      ]
    },
    {
      "cell_type": "markdown",
      "metadata": {
        "id": "zJeQEgXC2gE3"
      },
      "source": [
        "#Archivos\n",
        "- Abrirlos\n",
        "    - Un str con la ruta del archivo\n",
        "    - Dos caracteres: 1 -› modo de apertura (r,w) y   el 2 el formato (Texto o Binario)\n",
        "    \n",
        "- Leerlos\n",
        "- Modificarlos"
      ]
    },
    {
      "cell_type": "code",
      "metadata": {
        "id": "ttoludKA3Oh_"
      },
      "source": [
        " archivo = open('ejemplo.txt' , 'wt') #Se indica que abra el archivo en forma de escritura de texto\n",
        " \n",
        " archivo.write(\"Hola mundo de archivos\") #Escriben en el archivo\n",
        " \n",
        " archivo.close() #Cierra el archivo\n"
      ],
      "execution_count": 10,
      "outputs": []
    },
    {
      "cell_type": "code",
      "metadata": {
        "id": "zpZzJf4a4bMi"
      },
      "source": [
        "cat ejemplo.txt #Manda a llamar un comando del sistema operativo"
      ],
      "execution_count": null,
      "outputs": []
    },
    {
      "cell_type": "code",
      "metadata": {
        "id": "29Q8bZxx6Pqx"
      },
      "source": [
        "!(cat ejemplo.txt > otro.txt) #Pone la información del archivo ejemplo en un nuevo llamada otro"
      ],
      "execution_count": 13,
      "outputs": []
    }
  ]
}