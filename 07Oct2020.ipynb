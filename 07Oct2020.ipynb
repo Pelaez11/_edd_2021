{
  "nbformat": 4,
  "nbformat_minor": 0,
  "metadata": {
    "colab": {
      "name": "07Oct2020.ipynb",
      "provenance": [],
      "authorship_tag": "ABX9TyNhuDSV3v3Dr0z5ER3gRK05",
      "include_colab_link": true
    },
    "kernelspec": {
      "name": "python3",
      "display_name": "Python 3"
    }
  },
  "cells": [
    {
      "cell_type": "markdown",
      "metadata": {
        "id": "view-in-github",
        "colab_type": "text"
      },
      "source": [
        "<a href=\"https://colab.research.google.com/github/Pelaez11/_edd_2021/blob/master/07Oct2020.ipynb\" target=\"_parent\"><img src=\"https://colab.research.google.com/assets/colab-badge.svg\" alt=\"Open In Colab\"/></a>"
      ]
    },
    {
      "cell_type": "code",
      "metadata": {
        "id": "UlVamHVAnZMp",
        "outputId": "d23a3e94-8cef-4478-87b8-29eb4ca9022f",
        "colab": {
          "base_uri": "https://localhost:8080/"
        }
      },
      "source": [
        "autos = [\"Mazda\",\"honda\",\"Akura\",\"Ford\",\"VW\"]\n",
        "telefonos = [\"iPhone\",\"Huawei Mate 30\", \"Xiaomi S10\",\"Alcatel t1000\"]\n",
        "sistemas_operativos = [ \"Windows\", \"Linux\" , \"Android\" , \"iOS\" ,\"MacOs\" ]\n",
        "procesadores = [[\"Intel\", 3.1, True], [\"AMD\", 2.7, False], [\"Motorola\", 1.1, False]]\n",
        "\n",
        "lista_2d = [autos,telefonos,sistemas_operativos, procesadores]\n",
        "print(lista_2d)\n",
        "print(lista_2d[1][1])\n",
        "print(lista_2d[2][3])\n",
        "print(lista_2d[1][1][3:6]) #El primer numero indica de que variable sacar la info,\n",
        "# el 2do num la posición de la palabra y el 3ro a partir de que letra de la pabra hasta después de la última letra.\n",
        "print(lista_2d[3][1][1])\n",
        "print(lista_2d[3][2][0][2:6])\n",
        "print(lista_2d[3][0][0][-2:-5:-1]) #Saca las letras \"nte\" de procesadores pero al reves con indexado negativo\n",
        "\n",
        "#Concatenar listas\n",
        "colors = [\"rojo\", \"verde\", \"azul\", \"negro\"]\n",
        "flors = [\"margarita\", \"rosa\"]\n",
        "\n",
        "nueva = colors + flors\n",
        "print(nueva)\n",
        "print(colors)\n",
        "print(flors)\n",
        "\n",
        "#con extends\n",
        "colors.extend(flors)\n",
        "print()\n",
        "\n",
        "#Unpacking de listas // \n",
        "print(\"Unpacking\")\n",
        "dat_per = (\"Juan\", \"Pérez\", \"Bec\", 40, 1.80, True)\n",
        "nombre , paterno , materno , edad , est, fuma = dat_per\n",
        "print(f\"Nombre: {nombre} \\nedad: {edad}\" ) \n",
        "\n"
      ],
      "execution_count": 27,
      "outputs": [
        {
          "output_type": "stream",
          "text": [
            "[['Mazda', 'honda', 'Akura', 'Ford', 'VW'], ['iPhone', 'Huawei Mate 30', 'Xiaomi S10', 'Alcatel t1000'], ['Windows', 'Linux', 'Android', 'iOS', 'MacOs'], [['Intel', 3.1, True], ['AMD', 2.7, False], ['Motorola', 1.1, False]]]\n",
            "Huawei Mate 30\n",
            "iOS\n",
            "wei\n",
            "2.7\n",
            "toro\n",
            "etn\n",
            "['rojo', 'verde', 'azul', 'negro', 'margarita', 'rosa']\n",
            "['rojo', 'verde', 'azul', 'negro']\n",
            "['margarita', 'rosa']\n",
            "\n",
            "Unpacking\n",
            "Nombre: Juan \n",
            "edad: 40\n"
          ],
          "name": "stdout"
        }
      ]
    },
    {
      "cell_type": "code",
      "metadata": {
        "id": "_rPUNu5huLht"
      },
      "source": [
        "# Tuplas --- CONSULTAR\n",
        "bd = ('127.0.0.1', 'root', 'toor', '1345')\n",
        "print(f\"Usuario de la bs es: { bd[1]}\" )\n",
        "#bd[1] = 'user1'\n",
        "print(bd[1:3])\n",
        "helptuplas\n"
      ],
      "execution_count": null,
      "outputs": []
    },
    {
      "cell_type": "code",
      "metadata": {
        "id": "77QiN_D0wT-c",
        "outputId": "b8325486-32fa-4aeb-ef84-14474536025a",
        "colab": {
          "base_uri": "https://localhost:8080/"
        }
      },
      "source": [
        "#Diccionarios\n",
        "alumno = {'nombre':'Juan','edad':22, 'carrera':'ICO' }\n",
        "print(alumno)\n",
        "print(alumno['edad'])\n",
        "\n",
        "alumno = {\n",
        "          'nombre':'Juan',\n",
        "          'edad':22,\n",
        "          'carrera':'ICO', \n",
        "          'direccion': {'calle': 'Francos',\n",
        "                        'número': 21,\n",
        "                        'delg': 'Gustavo A. Madero',\n",
        "                        'estado': 32,\n",
        "                        'nom_est': 'CDMX',\n",
        "                        }\n",
        "         }\n",
        "print(alumno)\n",
        "print(alumno['direccion'])\n",
        "print(alumno['direccion']['delg'])\n",
        "print(alumno['direccion']['delg'][3:7])\n",
        "print(alumno['direccion']['delg'][3:7].upper())\n",
        "alumno['edad']= 25 #Modifica el dato de la edad\n",
        "print(alumno)\n",
        "alumno['promedio'] = 9.9 #Como no existe lo agrega, si existiera solo modifica\n",
        "print(alumno)\n",
        "alumno['direccion']['cp'] = 15879\n",
        "print(alumno)\n",
        "alumno['materia'] = {'nombre': 'CyP', 'calificación': 10}\n",
        "print(alumno)\n",
        "\n",
        "#*******\n",
        "cliente = { 'id': 1, 'nombre': 'Carlos Slim' }\n",
        "print(cliente)\n",
        "\n"
      ],
      "execution_count": null,
      "outputs": [
        {
          "output_type": "stream",
          "text": [
            "{'nombre': 'Juan', 'edad': 22, 'carrera': 'ICO'}\n",
            "22\n",
            "{'nombre': 'Juan', 'edad': 22, 'carrera': 'ICO', 'direccion': {'calle': 'Francos', 'número': 21, 'delg': 'Gustavo A. Madero', 'estado': 32, 'nom_est': 'CDMX'}}\n",
            "{'calle': 'Francos', 'número': 21, 'delg': 'Gustavo A. Madero', 'estado': 32, 'nom_est': 'CDMX'}\n",
            "Gustavo A. Madero\n",
            "tavo\n",
            "TAVO\n",
            "{'nombre': 'Juan', 'edad': 25, 'carrera': 'ICO', 'direccion': {'calle': 'Francos', 'número': 21, 'delg': 'Gustavo A. Madero', 'estado': 32, 'nom_est': 'CDMX'}}\n",
            "{'nombre': 'Juan', 'edad': 25, 'carrera': 'ICO', 'direccion': {'calle': 'Francos', 'número': 21, 'delg': 'Gustavo A. Madero', 'estado': 32, 'nom_est': 'CDMX'}, 'promedio': 9.9}\n",
            "{'nombre': 'Juan', 'edad': 25, 'carrera': 'ICO', 'direccion': {'calle': 'Francos', 'número': 21, 'delg': 'Gustavo A. Madero', 'estado': 32, 'nom_est': 'CDMX', 'cp': 15879}, 'promedio': 9.9}\n",
            "{'nombre': 'Juan', 'edad': 25, 'carrera': 'ICO', 'direccion': {'calle': 'Francos', 'número': 21, 'delg': 'Gustavo A. Madero', 'estado': 32, 'nom_est': 'CDMX', 'cp': 15879}, 'promedio': 9.9, 'materia': {'nombre': 'CyP', 'calificación': 10}}\n"
          ],
          "name": "stdout"
        }
      ]
    }
  ]
}