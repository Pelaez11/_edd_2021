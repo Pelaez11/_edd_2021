{
  "nbformat": 4,
  "nbformat_minor": 0,
  "metadata": {
    "colab": {
      "name": "12Oct2020.ipynb",
      "provenance": [],
      "authorship_tag": "ABX9TyPoggrogkT/UI/ydkc2IKDH",
      "include_colab_link": true
    },
    "kernelspec": {
      "name": "python3",
      "display_name": "Python 3"
    }
  },
  "cells": [
    {
      "cell_type": "markdown",
      "metadata": {
        "id": "view-in-github",
        "colab_type": "text"
      },
      "source": [
        "<a href=\"https://colab.research.google.com/github/Pelaez11/_edd_2021/blob/master/12Oct2020.ipynb\" target=\"_parent\"><img src=\"https://colab.research.google.com/assets/colab-badge.svg\" alt=\"Open In Colab\"/></a>"
      ]
    },
    {
      "cell_type": "code",
      "metadata": {
        "id": "GSD7GVPAh_k8",
        "outputId": "187cfe8b-9e2c-433d-d831-7dbbe2e96374",
        "colab": {
          "base_uri": "https://localhost:8080/",
          "height": 155
        }
      },
      "source": [
        "#Diccionario con listas y tuplas anidados\n",
        "cliente_banc = { #Diccionario 1 es entre llaves\n",
        "    \"ID\": 1,\n",
        "    \"Nombre\": [\"Juan\", \"Antonio\"], #Lista es lo que está entre []\n",
        "    \"Ap Paterno\": \"García\", \n",
        "    \"Ap Materno\": \"García\",\n",
        "    \"Teléfonos\": { #Diccionario 1.1\n",
        "                \"Casa\": 5538511299,\n",
        "                \"Celular\": 5512294053,\n",
        "                \"Empleo\": 5536987452\n",
        "                },\n",
        "    \"Activo\": True, #A la IZQUIERDA es el dato LLAVE : y a la DERECHA dato VALOR --->> {LLAVE : VALOR} == diccionario\n",
        "    \"Balance\": 234567.89, \n",
        "    \"Tarjetas\":({\"Tipo\":\"Débito\", \"Saldo\" : 120000.00}, #---> Tupla con diccionarios adentro\n",
        "                  {\"Tipo\":\"Crédito\", \"Saldo\" : 3500.00}) #Entre () son tuplas --->\n",
        "}\n",
        "#Diccionarios son mutables /// Se pueden modificar\n",
        "print(cliente_banc)\n",
        "print(\"¡¡¡¡¡¡¡¡¡¡¡¡¡¡¡¡¡¡¡¡¡¡\")\n",
        "#cliente_banc[\"Balance\"] = cliente:banc[\"Balance\"] - 1000.89 / ó:\n",
        "cliente_banc[\"Balance\"] -= 1000.89\n",
        "print(cliente_banc)\n",
        "print(\"¡¡¡¡¡¡¡¡¡¡¡¡¡¡¡¡¡¡¡¡¡¡\")\n",
        "#Las tuplas no es posible modificadar pero si reemplazar con una nueva //son constantes\n",
        "cliente_banc[\"Tarjetas\"]= ({\"Tipo\":\"Debito\",\"Saldo\":12000}, #--->>> Tupla nueva para remplzar tupla --->\n",
        "                        {\"Tipo\":\"Crédito\",\"Saldo\":3500.0},\n",
        "                        {\"Tipo\":\"Crédito\",\"Nivel\":\"Oro\",\"Saldo\":50000.0}) #---->>> añade un tercer diccionario\n",
        "\n",
        "cliente_banc[\"Dirección\"] = {\"Calle\":\"Rancho Seco\",\"Num\":23}\n",
        "print(cliente_banc)\n",
        "print(\"¡¡¡¡¡¡¡¡¡¡¡¡¡¡¡¡¡¡¡¡¡¡\")\n",
        "cliente_banc.pop(\"Tarjetas\") #Saca elementos de un diccionario\n",
        "print(cliente_banc)\n"
      ],
      "execution_count": 24,
      "outputs": [
        {
          "output_type": "stream",
          "text": [
            "{'ID': 1, 'Nombre': ['Juan', 'Antonio'], 'Ap Paterno': 'García', 'Ap Materno': 'García', 'Teléfonos': {'Casa': 5538511299, 'Celular': 5512294053, 'Empleo': 5536987452}, 'Activo': True, 'Balance': 234567.89, 'Tarjetas': ({'Tipo': 'Débito', 'Saldo': 120000.0}, {'Tipo': 'Crédito', 'Saldo': 3500.0})}\n",
            "¡¡¡¡¡¡¡¡¡¡¡¡¡¡¡¡¡¡¡¡¡¡\n",
            "{'ID': 1, 'Nombre': ['Juan', 'Antonio'], 'Ap Paterno': 'García', 'Ap Materno': 'García', 'Teléfonos': {'Casa': 5538511299, 'Celular': 5512294053, 'Empleo': 5536987452}, 'Activo': True, 'Balance': 233567.0, 'Tarjetas': ({'Tipo': 'Débito', 'Saldo': 120000.0}, {'Tipo': 'Crédito', 'Saldo': 3500.0})}\n",
            "¡¡¡¡¡¡¡¡¡¡¡¡¡¡¡¡¡¡¡¡¡¡\n",
            "{'ID': 1, 'Nombre': ['Juan', 'Antonio'], 'Ap Paterno': 'García', 'Ap Materno': 'García', 'Teléfonos': {'Casa': 5538511299, 'Celular': 5512294053, 'Empleo': 5536987452}, 'Activo': True, 'Balance': 233567.0, 'Tarjetas': ({'Tipo': 'Debito', 'Saldo': 12000}, {'Tipo': 'Crédito', 'Saldo': 3500.0}, {'Tipo': 'Crédito', 'Nivel': 'Oro', 'Saldo': 50000.0}), 'Dirección': {'Calle': 'Rancho Seco', 'Num': 23}}\n",
            "¡¡¡¡¡¡¡¡¡¡¡¡¡¡¡¡¡¡¡¡¡¡\n",
            "{'ID': 1, 'Nombre': ['Juan', 'Antonio'], 'Ap Paterno': 'García', 'Ap Materno': 'García', 'Teléfonos': {'Casa': 5538511299, 'Celular': 5512294053, 'Empleo': 5536987452}, 'Activo': True, 'Balance': 233567.0, 'Dirección': {'Calle': 'Rancho Seco', 'Num': 23}}\n"
          ],
          "name": "stdout"
        }
      ]
    },
    {
      "cell_type": "code",
      "metadata": {
        "id": "7fsS90uTiPe1",
        "outputId": "5c3d3c7e-a84d-4c0e-c570-cd4fa1cf663b",
        "colab": {
          "base_uri": "https://localhost:8080/",
          "height": 541
        }
      },
      "source": [
        "#KEYS, VALUES E ITEMS // llaves:valores y objectos ==›› llave:valor\n",
        "#Llaves de diccionarios\n",
        "llaves = cliente_banc.keys() #Permite ver las llaves del diccionario\n",
        "print(llaves) #Imprimite solo ver el lado izquierdod e los : ==>> llaves:\n",
        "print(type(llaves)) #Comprobar que realmente son las llaves del diccionario\n",
        "print(\"_-_-_-_-_-_-_-_-_-_-\")\n",
        "for x in llaves: #Le da unamejor vista\n",
        "  print(x)\n",
        "print(\"_-_-_-_-_-_-_-_-_-_-\")\n",
        "\n",
        "#Valores De Diccionarios\n",
        "valores = cliente_banc.values() #Permite ver las valores del diccionario\n",
        "for v in valores: #Le da unamejor vista\n",
        "  print(v)\n",
        "print(\"_-_-_-_-_-_-_-_-_-_-\")\n",
        "\n",
        "#Items, son el par LLave y Valor\n",
        "pares= cliente_banc.items() #----- Permite ver los pares del diccionario ------\n",
        "print(pares)\n",
        "\n",
        "for elem in pares: #Le dio formato (f)\n",
        "  print(f\"La llave es : {elem[0]} = El valor es: {elem[1]}\")"
      ],
      "execution_count": 28,
      "outputs": [
        {
          "output_type": "stream",
          "text": [
            "dict_keys(['ID', 'Nombre', 'Ap Paterno', 'Ap Materno', 'Teléfonos', 'Activo', 'Balance', 'Dirección'])\n",
            "<class 'dict_keys'>\n",
            "_-_-_-_-_-_-_-_-_-_-\n",
            "ID\n",
            "Nombre\n",
            "Ap Paterno\n",
            "Ap Materno\n",
            "Teléfonos\n",
            "Activo\n",
            "Balance\n",
            "Dirección\n",
            "_-_-_-_-_-_-_-_-_-_-\n",
            "1\n",
            "['Juan', 'Antonio']\n",
            "García\n",
            "García\n",
            "{'Casa': 5538511299, 'Celular': 5512294053, 'Empleo': 5536987452}\n",
            "True\n",
            "233567.0\n",
            "{'Calle': 'Rancho Seco', 'Num': 23}\n",
            "_-_-_-_-_-_-_-_-_-_-\n",
            "dict_items([('ID', 1), ('Nombre', ['Juan', 'Antonio']), ('Ap Paterno', 'García'), ('Ap Materno', 'García'), ('Teléfonos', {'Casa': 5538511299, 'Celular': 5512294053, 'Empleo': 5536987452}), ('Activo', True), ('Balance', 233567.0), ('Dirección', {'Calle': 'Rancho Seco', 'Num': 23})])\n",
            "La llaves : ID = El valor es: 1\n",
            "La llaves : Nombre = El valor es: ['Juan', 'Antonio']\n",
            "La llaves : Ap Paterno = El valor es: García\n",
            "La llaves : Ap Materno = El valor es: García\n",
            "La llaves : Teléfonos = El valor es: {'Casa': 5538511299, 'Celular': 5512294053, 'Empleo': 5536987452}\n",
            "La llaves : Activo = El valor es: True\n",
            "La llaves : Balance = El valor es: 233567.0\n",
            "La llaves : Dirección = El valor es: {'Calle': 'Rancho Seco', 'Num': 23}\n"
          ],
          "name": "stdout"
        }
      ]
    },
    {
      "cell_type": "code",
      "metadata": {
        "id": "X0uHV73eiPra",
        "outputId": "0dc9f692-f8bd-4569-bbab-113a9d4d62a8",
        "colab": {
          "base_uri": "https://localhost:8080/",
          "height": 50
        }
      },
      "source": [
        "#Anexar Diccionarios a otros Diccionarios\n",
        "\n",
        "fruta = {\"Nombre\":\"Manzana\", \"Color\":\"Rojo\", \"Estado\":\"Chihuahua\"} #dicc 1\n",
        "otras_caract = {\"Vítaminas\":\"D\"} #dicc 2\n",
        "print(fruta)\n",
        "fruta.update(otras_caract) #Agrega otras_caract al final como otra llave:valor \n",
        "print(fruta) #---›› dicc 1 + dicc 2"
      ],
      "execution_count": 25,
      "outputs": [
        {
          "output_type": "stream",
          "text": [
            "{'Nombre': 'Manzana', 'Color': 'Rojo', 'Estado': 'Chihuahua'}\n",
            "{'Nombre': 'Manzana', 'Color': 'Rojo', 'Estado': 'Chihuahua', 'Vítaminas': 'D'}\n"
          ],
          "name": "stdout"
        }
      ]
    },
    {
      "cell_type": "markdown",
      "metadata": {
        "id": "7U5-rq7VikHW"
      },
      "source": [
        "#Funciones\n",
        "\n",
        "-  Recibe de 0 a n argumentos de entrada.\n",
        "-  Regresa solo un valor, aunque ese valor sea None.\n",
        "-  Tiene un nombre único en el contexto.\n",
        "-  Se pueden hacer solo dos cosas con funciones:\n",
        "    - Definirla \n",
        "\n",
        "    - Llamarla"
      ]
    },
    {
      "cell_type": "code",
      "metadata": {
        "id": "ojWbQpgqjQkM",
        "outputId": "4746b29e-a6df-47cc-d5ea-213a0b58896a",
        "colab": {
          "base_uri": "https://localhost:8080/",
          "height": 51
        }
      },
      "source": [
        "def suma(num1,num2): #Define\n",
        "  return num1 + num2\n",
        "\n",
        "def saludar(): #Define\n",
        "  \n",
        "  return \"Hola, ¿cómo estas?\"\n",
        "\n",
        "x = 10\n",
        "y = 20\n",
        "#c = suma(x,y) #Llama\n",
        "\n",
        "print(suma(x,y)) #Lo llama directo e imprime al mismo tiempo\n",
        "saludar() #Llama\n"
      ],
      "execution_count": 34,
      "outputs": [
        {
          "output_type": "stream",
          "text": [
            "30\n"
          ],
          "name": "stdout"
        },
        {
          "output_type": "execute_result",
          "data": {
            "application/vnd.google.colaboratory.intrinsic+json": {
              "type": "string"
            },
            "text/plain": [
              "'Hola, ¿cómo estas?'"
            ]
          },
          "metadata": {
            "tags": []
          },
          "execution_count": 34
        }
      ]
    },
    {
      "cell_type": "markdown",
      "metadata": {
        "id": "Okuez2Yxkv36"
      },
      "source": [
        "#None y las funciones\n",
        "Aprovechar el uso de none en paso de parametros"
      ]
    },
    {
      "cell_type": "code",
      "metadata": {
        "id": "Rh2xdUQMk5cT",
        "outputId": "d883fabe-2c61-49ca-a2bc-0ecd7eacd0d8",
        "colab": {
          "base_uri": "https://localhost:8080/",
          "height": 50
        }
      },
      "source": [
        "def calcular(base, veces):\n",
        "  if base != None: \n",
        "    resul = base * veces\n",
        "  else:\n",
        "    resul = \"¡Error!\"\n",
        "  return resul\n",
        "print (calcular(4,3))\n",
        "print (calcular(None,3))\n"
      ],
      "execution_count": 27,
      "outputs": [
        {
          "output_type": "stream",
          "text": [
            "12\n",
            "¡Error!\n"
          ],
          "name": "stdout"
        }
      ]
    }
  ]
}