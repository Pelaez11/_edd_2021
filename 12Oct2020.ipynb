{
  "nbformat": 4,
  "nbformat_minor": 0,
  "metadata": {
    "colab": {
      "name": "12Oct2020.ipynb",
      "provenance": [],
      "authorship_tag": "ABX9TyNM/uiGdOF+2SyJG/H/tCVe",
      "include_colab_link": true
    },
    "kernelspec": {
      "name": "python3",
      "display_name": "Python 3"
    }
  },
  "cells": [
    {
      "cell_type": "markdown",
      "metadata": {
        "id": "view-in-github",
        "colab_type": "text"
      },
      "source": [
        "<a href=\"https://colab.research.google.com/github/Pelaez11/_edd_2021/blob/master/12Oct2020.ipynb\" target=\"_parent\"><img src=\"https://colab.research.google.com/assets/colab-badge.svg\" alt=\"Open In Colab\"/></a>"
      ]
    },
    {
      "cell_type": "code",
      "metadata": {
        "id": "GSD7GVPAh_k8",
        "outputId": "187cfe8b-9e2c-433d-d831-7dbbe2e96374",
        "colab": {
          "base_uri": "https://localhost:8080/",
          "height": 155
        }
      },
      "source": [
        "#Diccionario con listas y tuplas anidados\n",
        "cliente_banc = {\n",
        "    \"ID\": 1,\n",
        "    \"Nombre\": [\"Juan\", \"Antonio\"],\n",
        "    \"Ap Paterno\": \"García\",\n",
        "    \"Ap Materno\": \"García\",\n",
        "    \"Teléfonos\": {\n",
        "                \"Casa\": 5538511299,\n",
        "                \"Celular\": 5512294053,\n",
        "                \"Empleo\": 5536987452\n",
        "                },\n",
        "    \"Activo\": True,\n",
        "    \"Balance\": 234567.89,\n",
        "    \"Tarjetas\":({\"Tipo\":\"Débito\", \"Saldo\" : 120000.00},\n",
        "                  {\"Tipo\":\"Crédito\", \"Saldo\" : 3500.00})\n",
        "}\n",
        "#Diccionarios son mutables\n",
        "print(cliente_banc)\n",
        "print(\"¡¡¡¡¡¡¡¡¡¡¡¡¡¡¡¡¡¡¡¡¡¡\")\n",
        "#cliente_banc[\"Balance\"] = cliente:banc[\"Balance\"] - 1000.89 / ó:\n",
        "cliente_banc[\"Balance\"] -= 1000.89\n",
        "print(cliente_banc)\n",
        "print(\"¡¡¡¡¡¡¡¡¡¡¡¡¡¡¡¡¡¡¡¡¡¡\")\n",
        "#Las tuplas no es posible modificadar pero si reemplazar con una nueva\n",
        "cliente_banc[\"Tarjetas\"]= ({\"Tipo\":\"Debito\",\"Saldo\":12000},\n",
        "                        {\"Tipo\":\"Crédito\",\"Saldo\":3500.0},\n",
        "                        {\"Tipo\":\"Crédito\",\"Nivel\":\"Oro\",\"Saldo\":50000.0})\n",
        "\n",
        "cliente_banc[\"Dirección\"] = {\"Calle\":\"Rancho Seco\",\"Num\":23}\n",
        "print(cliente_banc)\n",
        "print(\"¡¡¡¡¡¡¡¡¡¡¡¡¡¡¡¡¡¡¡¡¡¡\")\n",
        "cliente_banc.pop(\"Tarjetas\")\n",
        "print(cliente_banc)\n"
      ],
      "execution_count": 24,
      "outputs": [
        {
          "output_type": "stream",
          "text": [
            "{'ID': 1, 'Nombre': ['Juan', 'Antonio'], 'Ap Paterno': 'García', 'Ap Materno': 'García', 'Teléfonos': {'Casa': 5538511299, 'Celular': 5512294053, 'Empleo': 5536987452}, 'Activo': True, 'Balance': 234567.89, 'Tarjetas': ({'Tipo': 'Débito', 'Saldo': 120000.0}, {'Tipo': 'Crédito', 'Saldo': 3500.0})}\n",
            "¡¡¡¡¡¡¡¡¡¡¡¡¡¡¡¡¡¡¡¡¡¡\n",
            "{'ID': 1, 'Nombre': ['Juan', 'Antonio'], 'Ap Paterno': 'García', 'Ap Materno': 'García', 'Teléfonos': {'Casa': 5538511299, 'Celular': 5512294053, 'Empleo': 5536987452}, 'Activo': True, 'Balance': 233567.0, 'Tarjetas': ({'Tipo': 'Débito', 'Saldo': 120000.0}, {'Tipo': 'Crédito', 'Saldo': 3500.0})}\n",
            "¡¡¡¡¡¡¡¡¡¡¡¡¡¡¡¡¡¡¡¡¡¡\n",
            "{'ID': 1, 'Nombre': ['Juan', 'Antonio'], 'Ap Paterno': 'García', 'Ap Materno': 'García', 'Teléfonos': {'Casa': 5538511299, 'Celular': 5512294053, 'Empleo': 5536987452}, 'Activo': True, 'Balance': 233567.0, 'Tarjetas': ({'Tipo': 'Debito', 'Saldo': 12000}, {'Tipo': 'Crédito', 'Saldo': 3500.0}, {'Tipo': 'Crédito', 'Nivel': 'Oro', 'Saldo': 50000.0}), 'Dirección': {'Calle': 'Rancho Seco', 'Num': 23}}\n",
            "¡¡¡¡¡¡¡¡¡¡¡¡¡¡¡¡¡¡¡¡¡¡\n",
            "{'ID': 1, 'Nombre': ['Juan', 'Antonio'], 'Ap Paterno': 'García', 'Ap Materno': 'García', 'Teléfonos': {'Casa': 5538511299, 'Celular': 5512294053, 'Empleo': 5536987452}, 'Activo': True, 'Balance': 233567.0, 'Dirección': {'Calle': 'Rancho Seco', 'Num': 23}}\n"
          ],
          "name": "stdout"
        }
      ]
    },
    {
      "cell_type": "code",
      "metadata": {
        "id": "7fsS90uTiPe1",
        "outputId": "61728a6c-7ca3-48f6-b545-08a0413207b3",
        "colab": {
          "base_uri": "https://localhost:8080/",
          "height": 541
        }
      },
      "source": [
        "#KEYS, VALUES E ITEMS\n",
        "#Llaves de diccionarios\n",
        "llaves = cliente_banc.keys()\n",
        "print(llaves)\n",
        "print(type(llaves))\n",
        "print(\"_-_-_-_-_-_-_-_-_-_-\")\n",
        "for x in llaves:\n",
        "  print(x)\n",
        "print(\"_-_-_-_-_-_-_-_-_-_-\")\n",
        "\n",
        "#Valores De Diccionarios\n",
        "valores = cliente_banc.values()\n",
        "for v in valores:\n",
        "  print(v)\n",
        "print(\"_-_-_-_-_-_-_-_-_-_-\")\n",
        "\n",
        "#Pares, LLave y Valor\n",
        "pares= cliente_banc.items()\n",
        "print(pares)\n",
        "\n",
        "for elem in pares:\n",
        "  print(f\"{elem[0]} = {elem[1]}\")"
      ],
      "execution_count": 23,
      "outputs": [
        {
          "output_type": "stream",
          "text": [
            "dict_keys(['ID', 'Nombre', 'Ap Paterno', 'Ap Materno', 'Teléfonos', 'Activo', 'Balance', 'Dirección'])\n",
            "<class 'dict_keys'>\n",
            "_-_-_-_-_-_-_-_-_-_-\n",
            "ID\n",
            "Nombre\n",
            "Ap Paterno\n",
            "Ap Materno\n",
            "Teléfonos\n",
            "Activo\n",
            "Balance\n",
            "Dirección\n",
            "_-_-_-_-_-_-_-_-_-_-\n",
            "1\n",
            "['Juan', 'Antonio']\n",
            "García\n",
            "García\n",
            "{'Casa': 5538511299, 'Celular': 5512294053, 'Empleo': 5536987452}\n",
            "True\n",
            "233567.0\n",
            "{'Calle': 'Rancho Seco', 'Num': 23}\n",
            "_-_-_-_-_-_-_-_-_-_-\n",
            "dict_items([('ID', 1), ('Nombre', ['Juan', 'Antonio']), ('Ap Paterno', 'García'), ('Ap Materno', 'García'), ('Teléfonos', {'Casa': 5538511299, 'Celular': 5512294053, 'Empleo': 5536987452}), ('Activo', True), ('Balance', 233567.0), ('Dirección', {'Calle': 'Rancho Seco', 'Num': 23})])\n",
            "ID = 1\n",
            "Nombre = ['Juan', 'Antonio']\n",
            "Ap Paterno = García\n",
            "Ap Materno = García\n",
            "Teléfonos = {'Casa': 5538511299, 'Celular': 5512294053, 'Empleo': 5536987452}\n",
            "Activo = True\n",
            "Balance = 233567.0\n",
            "Dirección = {'Calle': 'Rancho Seco', 'Num': 23}\n"
          ],
          "name": "stdout"
        }
      ]
    },
    {
      "cell_type": "code",
      "metadata": {
        "id": "X0uHV73eiPra",
        "outputId": "0dc9f692-f8bd-4569-bbab-113a9d4d62a8",
        "colab": {
          "base_uri": "https://localhost:8080/",
          "height": 50
        }
      },
      "source": [
        "#Anexar Diccionarios a otros Diccionarios\n",
        "\n",
        "fruta = {\"Nombre\":\"Manzana\", \"Color\":\"Rojo\", \"Estado\":\"Chihuahua\"}\n",
        "otras_caract = {\"Vítaminas\":\"D\"}\n",
        "print(fruta)\n",
        "fruta.update(otras_caract) #Agrega otras_caract al final\n",
        "print(fruta)"
      ],
      "execution_count": 25,
      "outputs": [
        {
          "output_type": "stream",
          "text": [
            "{'Nombre': 'Manzana', 'Color': 'Rojo', 'Estado': 'Chihuahua'}\n",
            "{'Nombre': 'Manzana', 'Color': 'Rojo', 'Estado': 'Chihuahua', 'Vítaminas': 'D'}\n"
          ],
          "name": "stdout"
        }
      ]
    },
    {
      "cell_type": "markdown",
      "metadata": {
        "id": "7U5-rq7VikHW"
      },
      "source": [
        "#Funciones\n",
        "\n",
        "-  Recibe de 0 a n argumentos de entrada.\n",
        "-  Regresa solo un valor, aunque ese valor sea None.\n",
        "-  Tiene un nombre único en el contecto.\n",
        "-  Se pueden hacer solo dos cosas con funciones:\n",
        "    - Definirla \n",
        "\n",
        "    - Llamarla"
      ]
    },
    {
      "cell_type": "code",
      "metadata": {
        "id": "ojWbQpgqjQkM",
        "outputId": "13af0823-5c19-4096-9766-ad2627826c1f",
        "colab": {
          "base_uri": "https://localhost:8080/",
          "height": 50
        }
      },
      "source": [
        "def suma(a,b):\n",
        "  return a+b\n",
        "\n",
        "def saludar():\n",
        "  print (\"Hola, ¿cómo estas?\")\n",
        "  return None\n",
        "\n",
        "x = 10\n",
        "y = 20\n",
        "c = suma(x,y)\n",
        "\n",
        "print(c)\n",
        "saludar()\n"
      ],
      "execution_count": 1,
      "outputs": [
        {
          "output_type": "stream",
          "text": [
            "30\n",
            "Hola, cómo edtas?\n"
          ],
          "name": "stdout"
        }
      ]
    },
    {
      "cell_type": "markdown",
      "metadata": {
        "id": "Okuez2Yxkv36"
      },
      "source": [
        "#None y las funciones\n",
        "Aprovechar el uso de none en paso de parametros"
      ]
    },
    {
      "cell_type": "code",
      "metadata": {
        "id": "Rh2xdUQMk5cT",
        "outputId": "d883fabe-2c61-49ca-a2bc-0ecd7eacd0d8",
        "colab": {
          "base_uri": "https://localhost:8080/",
          "height": 50
        }
      },
      "source": [
        "def calcular(base, veces):\n",
        "  if base != None: \n",
        "    resul = base * veces\n",
        "  else:\n",
        "    resul = \"¡Error!\"\n",
        "  return resul\n",
        "print (calcular(4,3))\n",
        "print (calcular(None,3))\n"
      ],
      "execution_count": 27,
      "outputs": [
        {
          "output_type": "stream",
          "text": [
            "12\n",
            "¡Error!\n"
          ],
          "name": "stdout"
        }
      ]
    }
  ]
}