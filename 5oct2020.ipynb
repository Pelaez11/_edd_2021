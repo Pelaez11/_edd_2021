{
  "nbformat": 4,
  "nbformat_minor": 0,
  "metadata": {
    "colab": {
      "name": "5oct2020.ipynb",
      "provenance": [],
      "authorship_tag": "ABX9TyPg3qzToGpuhu3fJjANmxkM",
      "include_colab_link": true
    },
    "kernelspec": {
      "name": "python3",
      "display_name": "Python 3"
    }
  },
  "cells": [
    {
      "cell_type": "markdown",
      "metadata": {
        "id": "view-in-github",
        "colab_type": "text"
      },
      "source": [
        "<a href=\"https://colab.research.google.com/github/Pelaez11/_edd_2021/blob/master/5oct2020.ipynb\" target=\"_parent\"><img src=\"https://colab.research.google.com/assets/colab-badge.svg\" alt=\"Open In Colab\"/></a>"
      ]
    },
    {
      "cell_type": "code",
      "metadata": {
        "id": "f_YwTwRtTGc-"
      },
      "source": [
        "prec = 12.5\n",
        "cant = 2\n",
        "exist = True\n",
        "\n",
        "#Precio de los chetos es $12.50 y quiero 2, hay? True\n",
        "print (\"*********\")\n",
        "print (\"Precio de los chetos es: $\", prec, \"y quiero \", cant, \" , hay? \", exist )\n",
        "#Format() de la calse str\n",
        "print (\"*********\")\n",
        "print(\"Precio de los chetos es {0} y quiero {1}, hay? {2}\".format(prec, cant, exist))\n",
        "print (\"*********\")\n",
        "print(\"Precio de los chetos es {1} y quiero {2}, hay? {0}\".format(prec, cant, exist))\n",
        "print (\"*********\")\n",
        "#OPERADOR F\"\"\n",
        "print(f\"Precio de los chetos es {prec} y quiero {cant}, hay? {exist}\".format(prec, cant, exist))\n"
      ],
      "execution_count": null,
      "outputs": []
    },
    {
      "cell_type": "markdown",
      "metadata": {
        "id": "WvCBpiVrYRQ_"
      },
      "source": [
        "#Listas \n",
        "declaración [ ]\n",
        "\n",
        "selector [ ]\n",
        "\n",
        "mutable.\n",
        "\n",
        "#Tuplas\n",
        "declaración ()\n",
        "\n",
        "selector [ ]\n",
        "\n",
        "no mutable.\n",
        "\n",
        "#Diccionarios\n",
        "Conjunto de datos en pares llave:valor\n",
        "\n",
        "son mutables\n",
        "\n",
        "equivalentea JSON.\n",
        "\n",
        "#Conjuntos\n",
        "Grupo de elementos con la teoría de conjuntos\n",
        "operaciones de conjuntos."
      ]
    },
    {
      "cell_type": "code",
      "metadata": {
        "id": "57x0wVK0WVZA"
      },
      "source": [
        "#Listas\n",
        "materias = [\"CyP\", \"DAA\", \"EDD\", \"IS\", \"POO\"]\n",
        "print(materias)\n",
        "\n",
        "print( materias [2] )\n",
        "print( materias [-1] )\n",
        "print( materias [4] )\n",
        "print( materias [::-1] )\n",
        "\n",
        "#Lista a partir de un string\n",
        "fecha = \"05/Oct/2020\"\n",
        "list_fech = fecha.split(\"/\") #Mneciona que quite la diagonal\n",
        "print(list_fech)\n",
        "print(\"*****\")\n",
        "#String a partir de una lista\n",
        "list_hor = [\"15\",\"22\",\"45\"] \n",
        "hora = \":\".join(list_hor) #Indica con que separar y para eso en \n",
        "#list_hor hay que separar cada datos por comillas.\n",
        "print(hora)\n",
        "print(\"*/*/*/*/*/*/*/*/*/*/\")\n",
        "print(materias)\n",
        "print(list_fech)\n",
        "print(list_hor)\n",
        "print(\"*/*/*/*/*/*/*/*/*/*/\")\n",
        "\n",
        "materias[0] = \"Computadoras y Porgramación\"\n",
        "print(materias)\n",
        "print(\"*/*/*/*/*/*/*/*/*/*/\")\n",
        "\n",
        "#Agregar\n",
        "materias.append(\"Calidad\") #Append agrega al final\n",
        "print(materias)\n",
        "print(\"._._._._._._._._.\")\n",
        "materias.insert(2, \"Emprendimiento\") #Agrega en una posiición donde se especifique\n",
        "print(materias)\n",
        "\n",
        "#POP Saca un elemento\n",
        "materia = materias.pop() #Si no se indica una posición dentro de los () saca el último por default\n",
        "print(materia)\n",
        "print(materias)\n",
        "print(\"._._._._._._._._.\")\n",
        "materia = materias.pop(1) #Saca un elemento donde se indique la posición que se encuentra\n",
        "print(materia)\n",
        "print(materias)\n",
        "print(\"////////////*****//////////\")\n",
        "\n",
        "#Vaciar lista\n",
        "materias.clear()\n",
        "print(materias)\n",
        "print(\"////////////*****//////////\")\n",
        "\n",
        "#Slicing [# posición que empiece : # hasta donde llegue : # de en cuanto en cuanto va sacando]\n",
        "print(\"Slicing\")\n",
        "num = [0,1,2,3,4,5,6,7,8,9,10]\n",
        "print(num)\n",
        "print(num[4:9:1]) #Saca a partir de la posición 4 hasta la posición 9 de uno\n",
        "# en uno, es decir del num 4 al 8.\n",
        "print(num[4::1])\n",
        "print(num[4:9])\n",
        "print(\"////////////*****//////////\")\n",
        "#Sustituir un segmento con Slicing [0,1,2,3,-2,9,10]\n",
        "num[4:9:1] = [-2] #Seleccionas un elemento de esta lista y se sustituye por el num 2 \n",
        "#en este caso sustituye el que se encuentra en la posición 4\n",
        "print(num)\n",
        "print(\"-----------**********----------\")\n",
        "\n",
        "\n",
        "\n",
        "\n",
        "\n",
        "\n",
        "\n",
        "\n",
        "\n"
      ],
      "execution_count": null,
      "outputs": []
    },
    {
      "cell_type": "code",
      "metadata": {
        "id": "GKLM7aHGdZJs"
      },
      "source": [
        "autos = [\"Mazda\", \"Honda\", \"Akura\", \"Ford\", \"VW\"]\n",
        "cel = [\"¡Phone\", \"Huawei Mate 30\", \"Alcatel\", \"iOS\", \"MacOs\"]\n",
        "sist_op = [\"Windows\", \"Linux\", \"Android\", \"iOS\", \"MacOs\"]\n",
        "\n",
        "list_2d = [autos, cel, sist_op]\n",
        "print(list_2d)\n",
        "print(list_2d[1][1])\n",
        "\n"
      ],
      "execution_count": null,
      "outputs": []
    }
  ]
}