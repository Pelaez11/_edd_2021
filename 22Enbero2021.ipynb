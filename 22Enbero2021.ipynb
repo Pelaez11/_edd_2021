{
  "nbformat": 4,
  "nbformat_minor": 0,
  "metadata": {
    "colab": {
      "name": "22Enbero2021.ipynb",
      "provenance": [],
      "collapsed_sections": [],
      "authorship_tag": "ABX9TyOdBONi/UYkf6TZQexXT2UZ",
      "include_colab_link": true
    },
    "kernelspec": {
      "name": "python3",
      "display_name": "Python 3"
    }
  },
  "cells": [
    {
      "cell_type": "markdown",
      "metadata": {
        "id": "view-in-github",
        "colab_type": "text"
      },
      "source": [
        "<a href=\"https://colab.research.google.com/github/Pelaez11/_edd_2021/blob/master/22Enbero2021.ipynb\" target=\"_parent\"><img src=\"https://colab.research.google.com/assets/colab-badge.svg\" alt=\"Open In Colab\"/></a>"
      ]
    },
    {
      "cell_type": "code",
      "metadata": {
        "id": "ywgEI_NfRo03"
      },
      "source": [
        "class NodoArbol:\r\n",
        "  def __init__( self, value, lefth = None, right = None):\r\n",
        "    self.data = value\r\n",
        "    self.left = lefth\r\n",
        "    self.right = right"
      ],
      "execution_count": null,
      "outputs": []
    },
    {
      "cell_type": "code",
      "metadata": {
        "id": "K8aUb30_SqZ4"
      },
      "source": [
        "class ArbolBinarioBusqueda:\r\n",
        "  def __init__( self ):\r\n",
        "    self.__root = None\r\n",
        "\r\n",
        "  def insert( self, value ):\r\n",
        "    if self.__root == None:\r\n",
        "      self.__root = NodoArbol( value )\r\n",
        "    else:\r\n",
        "      self.__insert__( self.__root, value )\r\n",
        "\r\n",
        "  def __insert__( self, nodo, value ): # Recursividad\r\n",
        "    if nodo.data == value:\r\n",
        "      print(\"El nodo ya existe, no se inserta: \", value)\r\n",
        "    elif value < nodo.data:\r\n",
        "      # Ir a la izq\r\n",
        "      if nodo.left == None:\r\n",
        "         nodo.left = NodoArbol( value, None, None )\r\n",
        "      else:\r\n",
        "        self.__insert__( nodo.left, value )\r\n",
        "    else: \r\n",
        "      # Ir a la der\r\n",
        "      if nodo.right == None:\r\n",
        "         nodo.right = NodoArbol( value, None, None )\r\n",
        "      else:\r\n",
        "        self.__insert__(nodo.right, value)\r\n",
        "\r\n",
        "  def transversal( self, format=\"in\" ): # in, pos, pre\r\n",
        "      if format == \"in\":\r\n",
        "        print(\"\\nRecorrido en IN orden\")\r\n",
        "        self.__recorrido_in( self.__root)\r\n",
        "\r\n",
        "      elif format == \"pre\":\r\n",
        "        print(\"\\nRecorrido en PRE orden\")\r\n",
        "        self.__recorrido_pre( self.__root)\r\n",
        "        \r\n",
        "      elif format == \"pos\":\r\n",
        "        print(\"\\nRecorrido en POS orden\")\r\n",
        "        self.__recorrido_pos( self.__root)\r\n",
        "        \r\n",
        "      else: \r\n",
        "        print(\"Formato no valido!!\")\r\n",
        "  \r\n",
        "  def __recorrido_in( self, nodo ):\r\n",
        "      if nodo == None:\r\n",
        "        #print(\"Caso base\")\r\n",
        "        pass\r\n",
        "      else:\r\n",
        "        self.__recorrido_in( nodo.left )\r\n",
        "        print( nodo.data, end=\", \" )\r\n",
        "        self.__recorrido_in( nodo.right )\r\n",
        "\r\n",
        "  def __recorrido_pos( self, nodo ):\r\n",
        "      if nodo == None:\r\n",
        "        #print(\"Caso base\")\r\n",
        "        pass\r\n",
        "      else:\r\n",
        "        print( nodo.data, end=\", \" )\r\n",
        "        self.__recorrido_pos( nodo.left )\r\n",
        "        self.__recorrido_pos( nodo.right )\r\n",
        "\r\n",
        "  def __recorrido_pre( self, nodo ):\r\n",
        "      if nodo == None:\r\n",
        "        #print(\"Caso base\")\r\n",
        "        pass\r\n",
        "      else:\r\n",
        "        self.__recorrido_pre( nodo.left )\r\n",
        "        self.__recorrido_pre( nodo.right )      \r\n",
        "        print( nodo.data, end=\", \" )\r\n",
        "\r\n",
        "  def search( self, value ):\r\n",
        "    if self.__root == None:\r\n",
        "      print(\"Árbol vacío\")\r\n",
        "    else:\r\n",
        "      return self.__search( self.__root, value )\r\n",
        "  \r\n",
        "  def __search( self, nodo, value ):\r\n",
        "    if nodo == None:\r\n",
        "      return None\r\n",
        "    elif nodo.data == value:\r\n",
        "      return nodo\r\n",
        "    elif value < nodo.data:\r\n",
        "      print(\"Ir a la izquierda\")\r\n",
        "      return self.__search( nodo.left, value )\r\n",
        "    else:\r\n",
        "      print(\"Ir a la derecha\")\r\n",
        "      return self.__search( nodo.right, value )  \r\n"
      ],
      "execution_count": null,
      "outputs": []
    },
    {
      "cell_type": "code",
      "metadata": {
        "colab": {
          "base_uri": "https://localhost:8080/"
        },
        "id": "_oZV9sh8c98s",
        "outputId": "16579e58-0925-49fc-d013-2e3061f10652"
      },
      "source": [
        "abb = ArbolBinarioBusqueda()\r\n",
        "abb.insert(50)\r\n",
        "abb.insert(30)\r\n",
        "abb.insert(60)\r\n",
        "abb.insert(35)\r\n",
        "abb.insert(89)\r\n",
        "abb.insert(70)\r\n",
        "abb.insert(1)\r\n",
        "abb.transversal(\"in\")\r\n",
        "print(\"\\n\")\r\n",
        "abb.transversal(\"pre\")\r\n",
        "print(\"\\n\")\r\n",
        "abb.transversal(\"pos\")\r\n",
        "print(\"\\n\")\r\n",
        "\r\n",
        "res = abb.search(70)\r\n",
        "print(f\"El nodo es: { res.data }, hijo izq { res.left }, hijo der { res.right } \\n\" )\r\n",
        "\r\n",
        "res = abb.search( 30 )\r\n",
        "print(f\"El nodo es: {res.data}, hijo izquierdo {res.left.data} hijo derecho {res.right.data} \\n\")\r\n",
        "\r\n",
        "res = abb.search( 89 )\r\n",
        "print(f\"El nodo es: {res.data}, hijo izquierdo {res.left.data} hijo derecho {res.right} \\n\")"
      ],
      "execution_count": null,
      "outputs": [
        {
          "output_type": "stream",
          "text": [
            "\n",
            "Recorrido en IN orden\n",
            "1, 30, 35, 50, 60, 70, 89, \n",
            "\n",
            "\n",
            "Recorrido en PRE orden\n",
            "1, 35, 30, 70, 89, 60, 50, \n",
            "\n",
            "\n",
            "Recorrido en POS orden\n",
            "50, 30, 1, 35, 60, 89, 70, \n",
            "\n",
            "Ir a la derecha\n",
            "Ir a la derecha\n",
            "Ir a la izquierda\n",
            "El nodo es: 70, hijo izq None, hijo der None \n",
            "\n",
            "Ir a la izquierda\n",
            "El nodo es: 30, hijo izquierdo 1 hijo derecho 35 \n",
            "\n",
            "Ir a la derecha\n",
            "Ir a la derecha\n",
            "El nodo es: 89, hijo izquierdo 70 hijo derecho None \n",
            "\n"
          ],
          "name": "stdout"
        }
      ]
    }
  ]
}