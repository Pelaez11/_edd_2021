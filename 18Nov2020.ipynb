{
  "nbformat": 4,
  "nbformat_minor": 0,
  "metadata": {
    "colab": {
      "name": "18Nov2020.ipynb",
      "provenance": [],
      "collapsed_sections": [],
      "authorship_tag": "ABX9TyOcDmvK/GbeqjSrn4BGHMf3",
      "include_colab_link": true
    },
    "kernelspec": {
      "name": "python3",
      "display_name": "Python 3"
    }
  },
  "cells": [
    {
      "cell_type": "markdown",
      "metadata": {
        "id": "view-in-github",
        "colab_type": "text"
      },
      "source": [
        "<a href=\"https://colab.research.google.com/github/Pelaez11/_edd_2021/blob/master/18Nov2020.ipynb\" target=\"_parent\"><img src=\"https://colab.research.google.com/assets/colab-badge.svg\" alt=\"Open In Colab\"/></a>"
      ]
    },
    {
      "cell_type": "code",
      "metadata": {
        "colab": {
          "base_uri": "https://localhost:8080/"
        },
        "id": "n-UgOG1-OemM",
        "outputId": "3b32c75e-aa4b-4818-d019-0df14775fc2b"
      },
      "source": [
        "class Nodo:\n",
        "  def __init__(self, dato, siguiente = None):\n",
        "    self.dato = dato\n",
        "    self.siguiente = siguiente\n",
        "\n",
        "head = Nodo(10, Nodo( 20, Nodo(30, Nodo(40, Nodo(50)))))\n",
        "\n",
        "#Recorrido transversal \n",
        "curr_node = head\n",
        "print(\"|\", curr_node.dato, \"| --> \" , end=\"\")\n",
        "while( curr_node.siguiente != None ):\n",
        "  curr_node = curr_node.siguiente\n",
        "  print(\"|\", curr_node.dato, \"| --> \" , end=\"\")\n",
        "print(\"\\n***\")\n",
        "\n",
        "#Insertar el Nodo 35 después de 30\n",
        "ant = head.siguiente.siguiente\n",
        "print(ant.dato)\n",
        "print(\"\\n***\")\n",
        "nuevo = Nodo(35)\n",
        "nuevo.siguiente = ant.siguiente\n",
        "print(nuevo.siguiente.dato)\n",
        "print(\"\\n***\")\n",
        "ant.siguiente = nuevo\n",
        "\n",
        "\n",
        "#Recorrido transversal \n",
        "curr_node = head\n",
        "print(\"|\", curr_node.dato, \"| --> \" , end=\"\")\n",
        "while( curr_node.siguiente != None ):\n",
        "  curr_node = curr_node.siguiente\n",
        "  print(\"|\", curr_node.dato, \"| --> \" , end=\"\")\n",
        "print(\"\\n****\")\n",
        "\n",
        "#Eliminar 20\n",
        "head.siguiente = head.siguiente.siguiente\n",
        "\n",
        "#Recorrido transversal \n",
        "curr_node = head\n",
        "print(\"|\", curr_node.dato, \"| --> \" , end=\"\")\n",
        "while( curr_node.siguiente != None ):\n",
        "  curr_node = curr_node.siguiente\n",
        "  print(\"|\", curr_node.dato, \"| --> \" , end=\"\")\n",
        "print(\"\\n****\")\n",
        "\n"
      ],
      "execution_count": 15,
      "outputs": [
        {
          "output_type": "stream",
          "text": [
            "| 10 | --> | 20 | --> | 30 | --> | 40 | --> | 50 | --> \n",
            "***\n",
            "30\n",
            "\n",
            "***\n",
            "40\n",
            "\n",
            "***\n",
            "| 10 | --> | 20 | --> | 30 | --> | 35 | --> | 40 | --> | 50 | --> \n",
            "****\n",
            "| 10 | --> | 30 | --> | 35 | --> | 40 | --> | 50 | --> \n",
            "****\n"
          ],
          "name": "stdout"
        }
      ]
    },
    {
      "cell_type": "code",
      "metadata": {
        "id": "7Jh5W_AYVTkf"
      },
      "source": [
        "class Nodo:\n",
        "  def __init__(self, dato, sig = None):\n",
        "    self.dato = dato\n",
        "    self.siguiente = sig\n",
        "\n",
        "class LinkedLsit:\n",
        "  def __init__(self):\n",
        "    self.__head = None\n",
        "\n",
        "  def is_empty(self):\n",
        "    return self.__head == None\n",
        "\n",
        "    \n",
        "\n"
      ],
      "execution_count": null,
      "outputs": []
    }
  ]
}