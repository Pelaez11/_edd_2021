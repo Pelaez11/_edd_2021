{
  "nbformat": 4,
  "nbformat_minor": 0,
  "metadata": {
    "colab": {
      "name": "28Oct2020.ipynb",
      "provenance": [],
      "authorship_tag": "ABX9TyO697zBLTolAall688vvwPd",
      "include_colab_link": true
    },
    "kernelspec": {
      "name": "python3",
      "display_name": "Python 3"
    }
  },
  "cells": [
    {
      "cell_type": "markdown",
      "metadata": {
        "id": "view-in-github",
        "colab_type": "text"
      },
      "source": [
        "<a href=\"https://colab.research.google.com/github/Pelaez11/_edd_2021/blob/master/28Oct2020.ipynb\" target=\"_parent\"><img src=\"https://colab.research.google.com/assets/colab-badge.svg\" alt=\"Open In Colab\"/></a>"
      ]
    },
    {
      "cell_type": "code",
      "metadata": {
        "id": "-dEQb8fuTBuz",
        "outputId": "37fed135-efbe-4ba7-c3c4-b20ad7de41ca",
        "colab": {
          "base_uri": "https://localhost:8080/"
        }
      },
      "source": [
        "\"\"\"\n",
        "ARRAY \n",
        "\"\"\"\n",
        "class Array:\n",
        "  def __init__( self , tam ):\n",
        "    self.__datos = [ 0 for x in range(tam) ] #Estática ya que no se puede modificar\n",
        "    \n",
        "  def get_item ( self, index ):\n",
        "      dato = 0\n",
        "      if index >= 0 and index < len(self.__datos):\n",
        "         dato = self.__datos[index] \n",
        "      else:\n",
        "        print(\"Error en el índice\")   \n",
        "      return dato\n",
        "\n",
        "  def set_item(self , dato , index ):\n",
        "    if index >= 0 and index < len(self.__datos):\n",
        "      self.__datos[index] = dato\n",
        "    else:\n",
        "      print(\"Error en el índice\")\n",
        "    \n",
        "  def get_length(self):\n",
        "    return len(self.__datos)\n",
        "\n",
        "  def clear(self , dato):\n",
        "    self.__datos = [dato for x in range(len(self.__datos))]\n",
        "\n",
        "  def getIterator( self ):\n",
        "    return _getIterator( self.__datos )  \n",
        "\n",
        "class _getIterator:\n",
        "  def __init__( self , arreglo ):\n",
        "    self.__arreglo = arreglo\n",
        "    self.__indice_actual = 0\n",
        "\n",
        "  def __iter__( self ):\n",
        "    return self\n",
        "\n",
        "  def __next__( self ): #Solicita el siguiente valor del arreglo\n",
        "    if self.__indice_actual < len( self.__arreglo ):\n",
        "      dato = self.__arreglo[self.__indice_actual]\n",
        "      self.__indice_actual += 1\n",
        "      return dato\n",
        "    else:\n",
        "      raise StopIteration\n",
        "\n",
        "  def getIterator(self):\n",
        "    return _getIterator(self.__datos)\n",
        "    \n",
        "\n",
        "  \n",
        "\n",
        "mi_arreglo  = Array(10)\n",
        "print(mi_arreglo.get_item( 20 ))\n",
        "mi_arreglo.set_item( 2345, 3 )\n",
        "print(mi_arreglo.get_item( 3 ))\n",
        "mi_arreglo.clear(3)\n",
        "\n",
        "for x in  mi_arreglo.getIterator():\n",
        "  print(x)"
      ],
      "execution_count": 1,
      "outputs": [
        {
          "output_type": "stream",
          "text": [
            "Error en el índice\n",
            "0\n",
            "2345\n",
            "3\n",
            "3\n",
            "3\n",
            "3\n",
            "3\n",
            "3\n",
            "3\n",
            "3\n",
            "3\n",
            "3\n"
          ],
          "name": "stdout"
        }
      ]
    }
  ]
}