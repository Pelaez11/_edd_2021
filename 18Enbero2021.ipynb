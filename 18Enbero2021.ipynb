{
  "nbformat": 4,
  "nbformat_minor": 0,
  "metadata": {
    "colab": {
      "name": "18Enbero2021.ipynb",
      "provenance": [],
      "collapsed_sections": [],
      "authorship_tag": "ABX9TyNY/eMoQEiP/vkZA5mktW5b",
      "include_colab_link": true
    },
    "kernelspec": {
      "name": "python3",
      "display_name": "Python 3"
    }
  },
  "cells": [
    {
      "cell_type": "markdown",
      "metadata": {
        "id": "view-in-github",
        "colab_type": "text"
      },
      "source": [
        "<a href=\"https://colab.research.google.com/github/Pelaez11/_edd_2021/blob/master/18Enbero2021.ipynb\" target=\"_parent\"><img src=\"https://colab.research.google.com/assets/colab-badge.svg\" alt=\"Open In Colab\"/></a>"
      ]
    },
    {
      "cell_type": "code",
      "metadata": {
        "id": "ywgEI_NfRo03"
      },
      "source": [
        "class NodoArbol:\r\n",
        "  def __init__( self, value, lefth = None, right = None):\r\n",
        "    self.data = value\r\n",
        "    self.left = lefth\r\n",
        "    self.right = right"
      ],
      "execution_count": 8,
      "outputs": []
    },
    {
      "cell_type": "code",
      "metadata": {
        "id": "K8aUb30_SqZ4"
      },
      "source": [
        "class ArbolBinarioBusqueda:\r\n",
        "  def __init__( self ):\r\n",
        "    self.__root = None\r\n",
        "\r\n",
        "  def insert( self, value ):\r\n",
        "    if self.__root == None:\r\n",
        "      self.__root = NodoArbol( value )\r\n",
        "    else:\r\n",
        "      self.__insert__( self.__root, value )\r\n",
        "\r\n",
        "  def __insert__( self, nodo, value ): # Recursividad\r\n",
        "    if nodo.data == value:\r\n",
        "      print(\"El nodo ya existe, no se inserta: \", value)\r\n",
        "    elif value < nodo.data:\r\n",
        "      # Ir a la izq\r\n",
        "      if nodo.left == None:\r\n",
        "         nodo.left = NodoArbol( value, None, None )\r\n",
        "      else:\r\n",
        "        self.__insert__( nodo.left, value )\r\n",
        "    else: \r\n",
        "      # Ir a la der\r\n",
        "      if nodo.right == None:\r\n",
        "         nodo.right = NodoArbol( value, None, None )\r\n",
        "      else:\r\n",
        "        self.__insert__(nodo.right, value)\r\n"
      ],
      "execution_count": 11,
      "outputs": []
    },
    {
      "cell_type": "code",
      "metadata": {
        "colab": {
          "base_uri": "https://localhost:8080/"
        },
        "id": "_oZV9sh8c98s",
        "outputId": "8ddd67f4-519b-4e20-84c1-77abc3f3fa22"
      },
      "source": [
        "abb = ArbolBinarioBusqueda()\r\n",
        "abb.insert(40)\r\n",
        "abb.insert(40)\r\n",
        "abb.insert(30)\r\n",
        "abb.insert(30)"
      ],
      "execution_count": 13,
      "outputs": [
        {
          "output_type": "stream",
          "text": [
            "El nodo ya existe, no se inserta:  40\n",
            "El nodo ya existe, no se inserta:  30\n"
          ],
          "name": "stdout"
        }
      ]
    }
  ]
}