{
  "nbformat": 4,
  "nbformat_minor": 0,
  "metadata": {
    "colab": {
      "name": "11Enero2021.ipynb",
      "provenance": [],
      "collapsed_sections": [],
      "authorship_tag": "ABX9TyPWf2qQkrh5+xLInuCUjvT8",
      "include_colab_link": true
    },
    "kernelspec": {
      "name": "python3",
      "display_name": "Python 3"
    }
  },
  "cells": [
    {
      "cell_type": "markdown",
      "metadata": {
        "id": "view-in-github",
        "colab_type": "text"
      },
      "source": [
        "<a href=\"https://colab.research.google.com/github/Pelaez11/_edd_2021/blob/master/11Enero2021.ipynb\" target=\"_parent\"><img src=\"https://colab.research.google.com/assets/colab-badge.svg\" alt=\"Open In Colab\"/></a>"
      ]
    },
    {
      "cell_type": "code",
      "metadata": {
        "id": "YaSZNf7cNc-E"
      },
      "source": [
        "class NodoArbol:\r\n",
        "  def __init__(self, dato, hijo_izq=None, hijo_der=None ):\r\n",
        "    self.dato = dato\r\n",
        "    self.hijo_izq = hijo_izq\r\n",
        "    self.hijo_der = hijo_der\r\n"
      ],
      "execution_count": 6,
      "outputs": []
    },
    {
      "cell_type": "code",
      "metadata": {
        "colab": {
          "base_uri": "https://localhost:8080/"
        },
        "id": "5Qb4A7ZRQxvr",
        "outputId": "7c407c87-5601-41c0-8c85-c53001ff2f9d"
      },
      "source": [
        "arbol = NodoArbol(\"R\")\r\n",
        "arbol.hijo_izq = NodoArbol(\"C\")\r\n",
        "arbol.hijo_der = NodoArbol(\"H\")\r\n",
        "#Imprimir nodo raíz\r\n",
        "print(arbol.dato)\r\n",
        "#Imprimir hijo izq\r\n",
        "print(arbol.hijo_izq.dato)\r\n",
        "#Imprimir hijo der\r\n",
        "print(arbol.hijo_der.dato)"
      ],
      "execution_count": 5,
      "outputs": [
        {
          "output_type": "stream",
          "text": [
            "R\n",
            "C\n",
            "H\n"
          ],
          "name": "stdout"
        }
      ]
    },
    {
      "cell_type": "code",
      "metadata": {
        "colab": {
          "base_uri": "https://localhost:8080/"
        },
        "id": "KtKj9hOrSs1W",
        "outputId": "526c53f8-8dcb-4a52-ced5-b8383b899d06"
      },
      "source": [
        "arbol_v2 = NodoArbol(\"R\", NodoArbol(\"C\"), NodoArbol(\"H\"))\r\n",
        "print(arbol_v2.dato)\r\n",
        "print(arbol_v2.hijo_izq.dato)\r\n",
        "print(arbol_v2.hijo_der.dato)\r\n"
      ],
      "execution_count": 12,
      "outputs": [
        {
          "output_type": "stream",
          "text": [
            "R\n",
            "C\n",
            "H\n"
          ],
          "name": "stdout"
        }
      ]
    },
    {
      "cell_type": "code",
      "metadata": {
        "colab": {
          "base_uri": "https://localhost:8080/"
        },
        "id": "UrUAy8aJTEMv",
        "outputId": "119bc219-2cd3-4566-ebb5-13d4d8e036d2"
      },
      "source": [
        "#Ejercicio 2\r\n",
        "arbol2 = NodoArbol(4, NodoArbol(3,NodoArbol(2, NodoArbol(2))), NodoArbol(5))\r\n",
        "print(arbol2.dato)\r\n",
        "print(arbol2.hijo_izq.dato)\r\n",
        "print(arbol2.hijo_der.dato)\r\n",
        "print(arbol2.hijo_izq.hijo_izq.dato)\r\n",
        "print(arbol2.hijo_izq.hijo_izq.hijo_izq.dato)\r\n",
        "\r\n",
        "print(\"\\nSolo el último hijo de lado izquierdo (2)\")\r\n",
        "print(arbol2.hijo_izq.hijo_izq.hijo_izq.dato)"
      ],
      "execution_count": 19,
      "outputs": [
        {
          "output_type": "stream",
          "text": [
            "4\n",
            "3\n",
            "5\n",
            "2\n",
            "2\n",
            "\n",
            "Solo el último hijo de lado izquierdo (2)\n",
            "2\n"
          ],
          "name": "stdout"
        }
      ]
    },
    {
      "cell_type": "code",
      "metadata": {
        "colab": {
          "base_uri": "https://localhost:8080/"
        },
        "id": "34MKbk6fXbCq",
        "outputId": "9bc8e135-1460-46ad-8044-80de4a9889e9"
      },
      "source": [
        "#Ejercicio 2\r\n",
        "arbol2 = NodoArbol(4, NodoArbol(3,NodoArbol(2, NodoArbol(2))), NodoArbol(5))\r\n",
        "#Imprimiendo el último hijo de izq (2)\r\n",
        "aux = arbol2\r\n",
        "while aux.hijo_izq != None:\r\n",
        "  aux = aux.hijo_izq\r\n",
        "print(aux.dato)"
      ],
      "execution_count": 21,
      "outputs": [
        {
          "output_type": "stream",
          "text": [
            "2\n"
          ],
          "name": "stdout"
        }
      ]
    },
    {
      "cell_type": "code",
      "metadata": {
        "id": "0grUh5rMaHlX"
      },
      "source": [
        "class NodoArbol2:\r\n",
        "  def __init__(self, dato, hijo_izq=None, hijo_cen=None, hijo_der=None ):\r\n",
        "    self.dato = dato\r\n",
        "    self.hijo_izq = hijo_izq\r\n",
        "    self.hijo_cen = hijo_cen\r\n",
        "    self.hijo_der = hijo_der\r\n"
      ],
      "execution_count": 29,
      "outputs": []
    },
    {
      "cell_type": "code",
      "metadata": {
        "colab": {
          "base_uri": "https://localhost:8080/",
          "height": 301
        },
        "id": "NhnuydJxYNTu",
        "outputId": "f3e68818-531a-481d-994b-381f2f3081bb"
      },
      "source": [
        "arbol4 = NodoArbol2(\"R\", NodoArbol2(\"I\", NodoArbol2(\"X\")), NodoArbol2(\"C\", NodoArbol2(\"Y\")), NodoArbol2(\"D\", NodoArbol2(\"Z\")))\r\n",
        "#arbol4 = Nodo_Arbol(\"R\" , NodoArbol2(\"I\" , None , NodoArbol2(\"X\")) , NodoArbol2(\"C\" , NodoArbol2(\"Y\")) , NodoArbol2(\"D\" , None , None , NodoArbol2(\"Z\")))\r\n",
        "print(arbol4.dato)\r\n",
        "print(arbol4.hijo_izq.dato)\r\n",
        "print(arbol4.hijo_der.dato)\r\n",
        "print(arbol4.hijo_cen.dato)\r\n",
        "print(arbol4.hijo_izq.hijo_izq.dato)\r\n",
        "print(arbol4.hijo_cen.hijo_cen.dato)\r\n",
        "print(arbol4.hijo_der.hijo_der.dato)"
      ],
      "execution_count": 32,
      "outputs": [
        {
          "output_type": "stream",
          "text": [
            "R\n",
            "I\n",
            "D\n",
            "C\n",
            "X\n"
          ],
          "name": "stdout"
        },
        {
          "output_type": "error",
          "ename": "AttributeError",
          "evalue": "ignored",
          "traceback": [
            "\u001b[0;31m---------------------------------------------------------------------------\u001b[0m",
            "\u001b[0;31mAttributeError\u001b[0m                            Traceback (most recent call last)",
            "\u001b[0;32m<ipython-input-32-a262aa9631d6>\u001b[0m in \u001b[0;36m<module>\u001b[0;34m()\u001b[0m\n\u001b[1;32m      6\u001b[0m \u001b[0mprint\u001b[0m\u001b[0;34m(\u001b[0m\u001b[0marbol4\u001b[0m\u001b[0;34m.\u001b[0m\u001b[0mhijo_cen\u001b[0m\u001b[0;34m.\u001b[0m\u001b[0mdato\u001b[0m\u001b[0;34m)\u001b[0m\u001b[0;34m\u001b[0m\u001b[0;34m\u001b[0m\u001b[0m\n\u001b[1;32m      7\u001b[0m \u001b[0mprint\u001b[0m\u001b[0;34m(\u001b[0m\u001b[0marbol4\u001b[0m\u001b[0;34m.\u001b[0m\u001b[0mhijo_izq\u001b[0m\u001b[0;34m.\u001b[0m\u001b[0mhijo_izq\u001b[0m\u001b[0;34m.\u001b[0m\u001b[0mdato\u001b[0m\u001b[0;34m)\u001b[0m\u001b[0;34m\u001b[0m\u001b[0;34m\u001b[0m\u001b[0m\n\u001b[0;32m----> 8\u001b[0;31m \u001b[0mprint\u001b[0m\u001b[0;34m(\u001b[0m\u001b[0marbol4\u001b[0m\u001b[0;34m.\u001b[0m\u001b[0mhijo_cen\u001b[0m\u001b[0;34m.\u001b[0m\u001b[0mhijo_cen\u001b[0m\u001b[0;34m.\u001b[0m\u001b[0mdato\u001b[0m\u001b[0;34m)\u001b[0m\u001b[0;34m\u001b[0m\u001b[0;34m\u001b[0m\u001b[0m\n\u001b[0m\u001b[1;32m      9\u001b[0m \u001b[0mprint\u001b[0m\u001b[0;34m(\u001b[0m\u001b[0marbol4\u001b[0m\u001b[0;34m.\u001b[0m\u001b[0mhijo_der\u001b[0m\u001b[0;34m.\u001b[0m\u001b[0mhijo_der\u001b[0m\u001b[0;34m.\u001b[0m\u001b[0mdato\u001b[0m\u001b[0;34m)\u001b[0m\u001b[0;34m\u001b[0m\u001b[0;34m\u001b[0m\u001b[0m\n",
            "\u001b[0;31mAttributeError\u001b[0m: 'NoneType' object has no attribute 'dato'"
          ]
        }
      ]
    }
  ]
}