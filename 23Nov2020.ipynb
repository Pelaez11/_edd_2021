{
  "nbformat": 4,
  "nbformat_minor": 0,
  "metadata": {
    "colab": {
      "name": "23Nov2020.ipynb",
      "provenance": [],
      "collapsed_sections": [],
      "authorship_tag": "ABX9TyOPwifatmCAzIaJp5m7KCaM",
      "include_colab_link": true
    },
    "kernelspec": {
      "name": "python3",
      "display_name": "Python 3"
    }
  },
  "cells": [
    {
      "cell_type": "markdown",
      "metadata": {
        "id": "view-in-github",
        "colab_type": "text"
      },
      "source": [
        "<a href=\"https://colab.research.google.com/github/Pelaez11/_edd_2021/blob/master/23Nov2020.ipynb\" target=\"_parent\"><img src=\"https://colab.research.google.com/assets/colab-badge.svg\" alt=\"Open In Colab\"/></a>"
      ]
    },
    {
      "cell_type": "code",
      "metadata": {
        "id": "LZgoJfUa54yt"
      },
      "source": [
        "class Nodo: \n",
        "    def __init__( self, dato, siguiente=None ):\n",
        "        self.dato = dato\n",
        "        self.siguiente = siguiente\n",
        "\n",
        "\n",
        "class LinkedList:\n",
        "    def __init__( self ):\n",
        "        self.__head = None\n",
        "\n",
        "#retorna si la lista esta vacia\n",
        "    def is_empty( self ):\n",
        "        return self.__head == None\n",
        "\n",
        "    def tail( self ):\n",
        "        curr_node = self.__head\n",
        "\n",
        "        while curr_node != None and curr_node.siguiente != None:\n",
        "            curr_node = curr_node.siguiente\n",
        "        return curr_node\n",
        "\n",
        "    def append( self, value):\n",
        "      nuevo = Nodo(value)\n",
        "      if self.__head == None:\n",
        "         self.__head = nuevo\n",
        "      else:\n",
        "        self.tail().siguiente = nuevo\n",
        "\n",
        "    def transversal( self ):\n",
        "      curr_node = self.__head\n",
        "      if curr_node == None:\n",
        "        print(\"Lista vacia\")\n",
        "      else:\n",
        "        while curr_node != None:\n",
        "          print(f\"{ curr_node.dato } ---> \", end=\"\")\n",
        "          curr_node = curr_node.siguiente\n",
        "      print(\"\")    \n",
        "\n",
        "    def prepend(self,value):\n",
        "        nuevo = Nodo(value)\n",
        "        nuevo.siguiente = self.__head\n",
        "        self.__head = nuevo\n",
        "\n",
        "    \n",
        "\n",
        "\n"
      ],
      "execution_count": 36,
      "outputs": []
    },
    {
      "cell_type": "code",
      "metadata": {
        "colab": {
          "base_uri": "https://localhost:8080/"
        },
        "id": "99tk4F2d7f7t",
        "outputId": "5c90a311-f9e5-404a-8f58-f6f99b9aa0db"
      },
      "source": [
        "l = LinkedList()\n",
        "print(f\"l esta vacia?= { l.is_empty() }\")\n",
        "\n",
        "x = l.tail()\n",
        "print(x)\n",
        "\n",
        "l.append(10)\n",
        "l.append(20)\n",
        "l.append(30)\n",
        "l.append(40)\n",
        "l.transversal()\n",
        "\n",
        "l.prepend(5)\n",
        "l.transversal()\n"
      ],
      "execution_count": 37,
      "outputs": [
        {
          "output_type": "stream",
          "text": [
            "l esta vacia?= True\n",
            "None\n",
            "10 ---> 20 ---> 30 ---> 40 ---> \n",
            "5 ---> 10 ---> 20 ---> 30 ---> 40 ---> \n"
          ],
          "name": "stdout"
        }
      ]
    }
  ]
}