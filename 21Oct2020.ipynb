{
  "nbformat": 4,
  "nbformat_minor": 0,
  "metadata": {
    "colab": {
      "name": "21Oct2020.ipynb",
      "provenance": [],
      "collapsed_sections": [],
      "authorship_tag": "ABX9TyMpTYdlFlFi0p26x4gcZC4Z",
      "include_colab_link": true
    },
    "kernelspec": {
      "name": "python3",
      "display_name": "Python 3"
    }
  },
  "cells": [
    {
      "cell_type": "markdown",
      "metadata": {
        "id": "view-in-github",
        "colab_type": "text"
      },
      "source": [
        "<a href=\"https://colab.research.google.com/github/Pelaez11/_edd_2021/blob/master/21Oct2020.ipynb\" target=\"_parent\"><img src=\"https://colab.research.google.com/assets/colab-badge.svg\" alt=\"Open In Colab\"/></a>"
      ]
    },
    {
      "cell_type": "code",
      "metadata": {
        "id": "X5VBGiKwtKuN",
        "outputId": "bbc38c1a-d8f7-47f0-8d27-8264f8d0afaa",
        "colab": {
          "base_uri": "https://localhost:8080/",
          "height": 84
        }
      },
      "source": [
        "#Encapsulamiento Tradicional Way \n",
        "class SmartPhone:\n",
        "  def __init__ ( self , m):\n",
        "    self.__marca = m\n",
        " \n",
        "  def set_marca( self, m ):\n",
        "    self.__marca = m\n",
        "  \n",
        "  def get_marca( self ):\n",
        "    return self.__marca\n",
        "  \n",
        "  def to_string( self ):\n",
        "    return \"La marca del télefono es: \" + self.__marca\n",
        "\n",
        "sp1 = SmartPhone(\"Huawei\")\n",
        "print(sp1.to_string())\n",
        "sp1.__marca = \"iPhone X\"\n",
        "print(sp1.to_string())\n",
        "sp1.set_marca(\"Samsung\")\n",
        "print(sp1.to_string())\n",
        "print(sp1.get_marca())\n"
      ],
      "execution_count": 7,
      "outputs": [
        {
          "output_type": "stream",
          "text": [
            "La marca del télefono es: Huawei\n",
            "La marca del télefono es: Huawei\n",
            "Samsung\n",
            "La marca del télefono es: Samsung\n"
          ],
          "name": "stdout"
        }
      ]
    },
    {
      "cell_type": "code",
      "metadata": {
        "id": "tY2q2fHzxd5Q",
        "outputId": "ee5eabde-0ef3-4e61-bd50-90f61c5b2af4",
        "colab": {
          "base_uri": "https://localhost:8080/",
          "height": 219
        }
      },
      "source": [
        "#Estilo Python 3 --->  \n",
        "class SmartPhone:\n",
        "  def __init__(self , m):\n",
        "    self.marca = m #Llamando el método get\n",
        "  \n",
        "  @property #Decardor + el nombre de la creación se declara \n",
        "  def marca( self ): # Se define método get, se delcara método marca y  el atributo self.__marca. Lo hace privado\n",
        "    print(\"En el método get de marca\")\n",
        "    return self.__marca\n",
        "\n",
        "  @marca.setter\n",
        "  def marca (self , m):\n",
        "    if m in [\"Lenovo\", \"Sony\", \"Motorola\", \"iPhone SE\", \"Huawei\", \"Xiaomi\",]:\n",
        "      self.__marca = m\n",
        "    else:\n",
        "     print(\"No conocido\")\n",
        "\n",
        "  def to_string( self ):\n",
        "    return \"Marca = \" + self.marca\n",
        "\n",
        "sp2 = SmartPhone(\"Xiaomi\")\n",
        "print( sp2.to_string() )\n",
        "sp2.__marca = \"iPhone SE\" #No lo modifica debido a que esta privado\n",
        "print( sp2.to_string() )\n",
        "sp2.marca = \"Motorola\" #La misma propiedad es tambíen el atributo set\n",
        "print( sp2.to_string() )\n",
        "print(sp2.marca) #Se manda a llamar el método get\n",
        "\n",
        "print(\"*/*/*/*/*/*/*/*/*/*/*/*/*/*/*/\")\n",
        "sp2.marca = \"99999999999\" #Esto comprueba que como tal no se encuentra encapsulado \n",
        "print( sp2.to_string() )"
      ],
      "execution_count": 25,
      "outputs": [
        {
          "output_type": "stream",
          "text": [
            "En el método get de marca\n",
            "Marca = Xiaomi\n",
            "En el método get de marca\n",
            "Marca = Xiaomi\n",
            "En el método get de marca\n",
            "Marca = Motorola\n",
            "En el método get de marca\n",
            "Motorola\n",
            "*/*/*/*/*/*/*/*/*/*/*/*/*/*/*/\n",
            "No conocido\n",
            "En el método get de marca\n",
            "Marca = Motorola\n"
          ],
          "name": "stdout"
        }
      ]
    },
    {
      "cell_type": "code",
      "metadata": {
        "id": "mZjhG7GR5LIZ",
        "outputId": "c75246a9-0ceb-4587-98c0-4d19f0fc1b1c",
        "colab": {
          "base_uri": "https://localhost:8080/",
          "height": 87
        }
      },
      "source": [
        "class TelefTrabajo(SmartPhone):\n",
        "  def __init__( self, m ):\n",
        "    self.marca = m\n",
        "\n",
        "sp3 = TelefTrabajo(\"Motorola\")\n",
        "print(dir(sp3))\n",
        "print(sp3.to_string()) #Herencia"
      ],
      "execution_count": 27,
      "outputs": [
        {
          "output_type": "stream",
          "text": [
            "['_SmartPhone__marca', '__class__', '__delattr__', '__dict__', '__dir__', '__doc__', '__eq__', '__format__', '__ge__', '__getattribute__', '__gt__', '__hash__', '__init__', '__init_subclass__', '__le__', '__lt__', '__module__', '__ne__', '__new__', '__reduce__', '__reduce_ex__', '__repr__', '__setattr__', '__sizeof__', '__str__', '__subclasshook__', '__weakref__', 'marca', 'to_string']\n",
            "En el método get de marca\n",
            "Marca = Motorola\n"
          ],
          "name": "stdout"
        }
      ]
    }
  ]
}