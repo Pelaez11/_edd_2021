{
  "nbformat": 4,
  "nbformat_minor": 0,
  "metadata": {
    "colab": {
      "name": "19Oct2020.ipynb",
      "provenance": [],
      "authorship_tag": "ABX9TyMDhZPLwT1UCyoEAee7LXI5",
      "include_colab_link": true
    },
    "kernelspec": {
      "name": "python3",
      "display_name": "Python 3"
    }
  },
  "cells": [
    {
      "cell_type": "markdown",
      "metadata": {
        "id": "view-in-github",
        "colab_type": "text"
      },
      "source": [
        "<a href=\"https://colab.research.google.com/github/Pelaez11/_edd_2021/blob/master/19Oct2020.ipynb\" target=\"_parent\"><img src=\"https://colab.research.google.com/assets/colab-badge.svg\" alt=\"Open In Colab\"/></a>"
      ]
    },
    {
      "cell_type": "code",
      "metadata": {
        "id": "fR6ZcxocZJe5"
      },
      "source": [
        "#Funcion read()\n",
        "arch = open('frutas.txt','rt')\n",
        "\n",
        "data = arch.read()\n",
        "print(data.upper()) #Pasa a mayúsculas\n",
        "\n",
        "arch.close()"
      ],
      "execution_count": null,
      "outputs": []
    },
    {
      "cell_type": "code",
      "metadata": {
        "id": "XTZKBla5d-ms"
      },
      "source": [
        "#Función readline() ---> Lee el archivo linea por linea forma 1\n",
        "arch = open('frutas.txt','rt')\n",
        "print(arch.readline())\n",
        "print(arch.readline())\n",
        "print(arch.readline())\n",
        "\n",
        "arch.close()\n"
      ],
      "execution_count": null,
      "outputs": []
    },
    {
      "cell_type": "code",
      "metadata": {
        "id": "AyzBEU2gflGu"
      },
      "source": [
        "#Función readline() ---> Lee el archivo linea por linea forma 2\n",
        "arch = open('frutas.txt','rt')\n",
        "\n",
        "data = arch.readline()\n",
        "while data != \"\":\n",
        "  print(data)\n",
        "  data = arch.readline()\n",
        "arch.close()"
      ],
      "execution_count": null,
      "outputs": []
    },
    {
      "cell_type": "code",
      "metadata": {
        "id": "nBZQtndOgCXI"
      },
      "source": [
        "#función readlines() ---> Imprime los elementos y caracteres (comas, espacion y saltos de linea) de frutas en una lista.\n",
        "arch = open('frutas.txt', 'rt')\n",
        "\n",
        "data = arch.readlines()\n",
        "print(data)\n",
        "\n",
        "frutas = []\n",
        "for linea in data:\n",
        "    frutas.append(linea.strip())\n",
        "\n",
        "frut_final = []\n",
        "for elem in frutas:\n",
        "  for fruta in elem.split(','):\n",
        "    frut_final.append(fruta.strip()) #Quita espacio a la isquierda y derecha\n",
        "\n",
        "\n",
        "print(frutas)\n",
        "print(frut_final)\n",
        "arch.close()"
      ],
      "execution_count": null,
      "outputs": []
    },
    {
      "cell_type": "markdown",
      "metadata": {
        "id": "CxyCHFrdlCUb"
      },
      "source": [
        "#POO con Python\n",
        "- Clase\n",
        "- Objetos\n",
        "- Atributos\n",
        "- Métodos\n",
        "- Método constructor\n",
        "- Encapsulamiento (público y privado) \n",
        "- Herencia\n",
        "\n",
        "Declarar clases en python se usa la palabra \"class\".\n"
      ]
    },
    {
      "cell_type": "code",
      "metadata": {
        "id": "u_HsOWZJlrtm"
      },
      "source": [
        "class Persona:\n",
        "  def __init__( self ): #Constructor /// Self ---» Se refiere al objeto especifico que manda llamar (per1)\n",
        "    print(\"Hola desde el constructor!!\")\n",
        "    \n",
        "  def to_string( self ):\n",
        "    print(\"Nada que imprimir ☆▽☆\")\n",
        "\n",
        "per1 = Persona() #Mnada a llamar el constructor\n",
        "per1.to_string()\n"
      ],
      "execution_count": null,
      "outputs": []
    },
    {
      "cell_type": "code",
      "metadata": {
        "id": "IpkleLs6n7Ki",
        "outputId": "5d32facb-c004-49ad-ebc0-fc1252fc5aac",
        "colab": {
          "base_uri": "https://localhost:8080/",
          "height": 50
        }
      },
      "source": [
        "class Persona:\n",
        "  def __init__( self, edd, est ): \n",
        "        self.__edad = edd #__edad se pone privado con los guines bajos antes de la palabra\n",
        "        self.__estaura = est\n",
        "    \n",
        "  def to_string( self ):\n",
        "    print(f\"Edad: {self.__edad}, est: {self.__estaura}\")\n",
        "\n",
        "per1 = Persona(23,1.78) \n",
        "per1.to_string()\n",
        "per1.__estaura = 10.4 #Privado permite no modificar el valor de la variable \n",
        "per1.to_string()"
      ],
      "execution_count": 45,
      "outputs": [
        {
          "output_type": "stream",
          "text": [
            "Edad: 23, est: 1.78\n",
            "Edad: 23, est: 1.78\n"
          ],
          "name": "stdout"
        }
      ]
    }
  ]
}