{
  "nbformat": 4,
  "nbformat_minor": 0,
  "metadata": {
    "colab": {
      "name": "19Oct2020.ipynb",
      "provenance": [],
      "collapsed_sections": [],
      "toc_visible": true,
      "authorship_tag": "ABX9TyNw+rP70jmQvr/WxyXQfmvM",
      "include_colab_link": true
    },
    "kernelspec": {
      "name": "python3",
      "display_name": "Python 3"
    }
  },
  "cells": [
    {
      "cell_type": "markdown",
      "metadata": {
        "id": "view-in-github",
        "colab_type": "text"
      },
      "source": [
        "<a href=\"https://colab.research.google.com/github/Pelaez11/_edd_2021/blob/master/19Oct2020.ipynb\" target=\"_parent\"><img src=\"https://colab.research.google.com/assets/colab-badge.svg\" alt=\"Open In Colab\"/></a>"
      ]
    },
    {
      "cell_type": "code",
      "metadata": {
        "id": "fR6ZcxocZJe5",
        "outputId": "f27c6192-72cb-467c-af17-619c9230e037",
        "colab": {
          "base_uri": "https://localhost:8080/",
          "height": 67
        }
      },
      "source": [
        "#Funcion read()\n",
        "arch = open('/content/sample_data/frutas', 'rt')\n",
        "\n",
        "data = arch.read()\n",
        "print(data.upper()) #Pasa a mayúsculas\n",
        "\n",
        "arch.close()"
      ],
      "execution_count": 19,
      "outputs": [
        {
          "output_type": "stream",
          "text": [
            "LIMÓN, AGUACATE, FRESA, MANZANA,\n",
            "CIRUELA, CAPULIN, NARANJA,\n",
            "PERA Y KIWI.\n"
          ],
          "name": "stdout"
        }
      ]
    },
    {
      "cell_type": "code",
      "metadata": {
        "id": "XTZKBla5d-ms",
        "outputId": "40981263-f230-4b41-cf78-819c90da7d3f",
        "colab": {
          "base_uri": "https://localhost:8080/",
          "height": 101
        }
      },
      "source": [
        "#Función readline() ---> Lee el archivo linea por linea forma 1\n",
        "arch = open('/content/sample_data/frutas', 'rt')\n",
        "print(arch.readline())\n",
        "print(arch.readline())\n",
        "print(arch.readline())\n",
        "\n",
        "arch.close()\n"
      ],
      "execution_count": 21,
      "outputs": [
        {
          "output_type": "stream",
          "text": [
            "limón, aguacate, fresa, manzana,\n",
            "\n",
            "ciruela, capulin, naranja,\n",
            "\n",
            "pera y kiwi.\n"
          ],
          "name": "stdout"
        }
      ]
    },
    {
      "cell_type": "code",
      "metadata": {
        "id": "AyzBEU2gflGu",
        "outputId": "5e7aba52-a4b8-490c-d09b-d18581e5f131",
        "colab": {
          "base_uri": "https://localhost:8080/",
          "height": 101
        }
      },
      "source": [
        "#Función readline() ---> Lee el archivo linea por linea forma 2\n",
        "arch = open('/content/sample_data/frutas', 'rt')\n",
        "\n",
        "data = arch.readline()\n",
        "while data != \"\":\n",
        "  print(data)\n",
        "  data = arch.readline()\n",
        "arch.close()"
      ],
      "execution_count": 22,
      "outputs": [
        {
          "output_type": "stream",
          "text": [
            "limón, aguacate, fresa, manzana,\n",
            "\n",
            "ciruela, capulin, naranja,\n",
            "\n",
            "pera y kiwi.\n"
          ],
          "name": "stdout"
        }
      ]
    },
    {
      "cell_type": "code",
      "metadata": {
        "id": "nBZQtndOgCXI",
        "outputId": "36b1b480-9df2-4923-8e38-85b4e7ae3b35",
        "colab": {
          "base_uri": "https://localhost:8080/",
          "height": 87
        }
      },
      "source": [
        "#función readlines() ---> Imprime los elementos y caracteres (comas, espacion y saltos de linea) de frutas en una lista.\n",
        "arch = open('/content/sample_data/frutas', 'rt')\n",
        "\n",
        "data = arch.readlines()\n",
        "print(data)\n",
        "\n",
        "frutas = []\n",
        "for linea in data:\n",
        "    frutas.append(linea.strip())\n",
        "\n",
        "frut_final = []\n",
        "for elem in frutas:\n",
        "  for fruta in elem.split(','):\n",
        "    frut_final.append(fruta.strip()) #Quita espacio a la isquierda y derecha\n",
        "\n",
        "\n",
        "print(frutas)\n",
        "print(frut_final)\n",
        "arch.close()"
      ],
      "execution_count": 23,
      "outputs": [
        {
          "output_type": "stream",
          "text": [
            "['limón, aguacate, fresa, manzana,\\n', 'ciruela, capulin, naranja,\\n', 'pera y kiwi.']\n",
            "['limón, aguacate, fresa, manzana,', 'ciruela, capulin, naranja,', 'pera y kiwi.']\n",
            "['limón', 'aguacate', 'fresa', 'manzana', '', 'ciruela', 'capulin', 'naranja', '', 'pera y kiwi.']\n"
          ],
          "name": "stdout"
        }
      ]
    },
    {
      "cell_type": "markdown",
      "metadata": {
        "id": "CxyCHFrdlCUb"
      },
      "source": [
        "#POO con Python\n",
        "- Clase\n",
        "- Objetos\n",
        "- Atributos\n",
        "- Métodos\n",
        "- Método constructor\n",
        "- Encapsulamiento (público y privado) \n",
        "- Herencia\n",
        "\n",
        "Declarar clases en python se usa la palabra \"class\".\n"
      ]
    },
    {
      "cell_type": "code",
      "metadata": {
        "id": "u_HsOWZJlrtm"
      },
      "source": [
        "class Persona:\n",
        "  def __init__( self ): #Constructor /// Self ---» Se refiere al objeto especifico que manda llamar (per1)\n",
        "    print(\"Hola desde el constructor!!\")\n",
        "    \n",
        "  def to_string( self ):\n",
        "    print(\"Nada que imprimir ☆▽☆\")\n",
        "\n",
        "per1 = Persona() #Mnada a llamar el constructor\n",
        "per1.to_string()\n"
      ],
      "execution_count": null,
      "outputs": []
    },
    {
      "cell_type": "code",
      "metadata": {
        "id": "IpkleLs6n7Ki",
        "outputId": "5d32facb-c004-49ad-ebc0-fc1252fc5aac",
        "colab": {
          "base_uri": "https://localhost:8080/",
          "height": 50
        }
      },
      "source": [
        "class Persona:\n",
        "  def __init__( self, edd, est ): \n",
        "        self.__edad = edd #__edad se pone privado con los guines bajos antes de la palabra\n",
        "        self.__estaura = est\n",
        "    \n",
        "  def to_string( self ):\n",
        "    print(f\"Edad: {self.__edad}, est: {self.__estaura}\")\n",
        "\n",
        "per1 = Persona(23,1.78) \n",
        "per1.to_string()\n",
        "per1.__estaura = 10.4 #Privado permite no modificar el valor de la variable \n",
        "per1.to_string()"
      ],
      "execution_count": null,
      "outputs": [
        {
          "output_type": "stream",
          "text": [
            "Edad: 23, est: 1.78\n",
            "Edad: 23, est: 1.78\n"
          ],
          "name": "stdout"
        }
      ]
    }
  ]
}