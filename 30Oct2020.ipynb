{
  "nbformat": 4,
  "nbformat_minor": 0,
  "metadata": {
    "colab": {
      "name": "30Oct2020.ipynb",
      "provenance": [],
      "collapsed_sections": [],
      "authorship_tag": "ABX9TyNHPVEIWJa+6Cqw0E7AwhHc",
      "include_colab_link": true
    },
    "kernelspec": {
      "name": "python3",
      "display_name": "Python 3"
    }
  },
  "cells": [
    {
      "cell_type": "markdown",
      "metadata": {
        "id": "view-in-github",
        "colab_type": "text"
      },
      "source": [
        "<a href=\"https://colab.research.google.com/github/Pelaez11/_edd_2021/blob/master/30Oct2020.ipynb\" target=\"_parent\"><img src=\"https://colab.research.google.com/assets/colab-badge.svg\" alt=\"Open In Colab\"/></a>"
      ]
    },
    {
      "cell_type": "code",
      "metadata": {
        "id": "nxegfAW7gajo"
      },
      "source": [
        "\"\"\"\n",
        "ARRAY \n",
        "\"\"\"\n",
        "class Array:\n",
        "  def __init__( self , tam ):\n",
        "    self.__datos = [ 0 for x in range(tam) ] #Estática ya que no se puede modificar\n",
        "    \n",
        "  def get_item ( self, index ):\n",
        "      dato = 0\n",
        "      if index >= 0 and index < len(self.__datos):\n",
        "         dato = self.__datos[index] \n",
        "      else:\n",
        "        print(\"Error en el índice\")   \n",
        "      return dato\n",
        "\n",
        "  def set_item(self , dato , index ):\n",
        "    if index >= 0 and index < len(self.__datos):\n",
        "      self.__datos[index] = dato\n",
        "    else:\n",
        "      print(\"Error en el índice\")\n",
        "    \n",
        "  def get_length(self):\n",
        "    return len(self.__datos)\n",
        "\n",
        "  def clear(self , dato):\n",
        "    self.__datos = [dato for x in range(len(self.__datos))]\n",
        "\n",
        "  def __iter__( self ):\n",
        "    return _getIterator( self.__datos )  \n",
        "\n",
        "class _getIterator:\n",
        "  def __init__( self , arreglo ):\n",
        "    self.__arreglo = arreglo\n",
        "    self.__indice_actual = 0\n",
        "\n",
        "  def __iter__( self ):\n",
        "    return self\n",
        "\n",
        "  def __next__( self ): #Solicita el siguiente valor del arreglo\n",
        "    if self.__indice_actual < len( self.__arreglo ):\n",
        "      dato = self.__arreglo[self.__indice_actual]\n",
        "      self.__indice_actual += 1\n",
        "      return dato\n",
        "    else:\n",
        "      raise StopIteration"
      ],
      "execution_count": null,
      "outputs": []
    },
    {
      "cell_type": "code",
      "metadata": {
        "id": "oEHIb_AWgmGv"
      },
      "source": [
        "class Empleados:\n",
        "  def __init__(self , num , nomb , pat , mat , he , sb , anin ): #Construtor\n",
        "    self.__num_trabajador = num\n",
        "    self.__nombre = nomb\n",
        "    self.__paterno = pat\n",
        "    self.__materno = mat\n",
        "    self.__horas_ext = he\n",
        "    self.__sueldo_base = sb\n",
        "    self.__anio_ingr = anin\n",
        "\n",
        "  #get y set\n",
        "\n",
        "  #métodosde uso general (cálculos)\n",
        "\n",
        "  #to_String() // Estado del empleado"
      ],
      "execution_count": null,
      "outputs": []
    },
    {
      "cell_type": "code",
      "metadata": {
        "id": "GPp5OpYlgqL4"
      },
      "source": [
        "  \"\"\"\n",
        "ADT sueldos ---> Encapsula datos de nómina\n",
        "\n",
        "cargar_datos (ruta del archivo) ==› Lee el archivo y lo carga en un ADT Array\n",
        "calcular_sueldos ( )\n",
        "reportar_mayor_ant ( )\n",
        "reportar_menor_ant ( )\n",
        "\"\"\"\n",
        "\n",
        "class Sueldos:\n",
        "  def __init__( self ):\n",
        "    self.__data = None\n",
        "\n",
        "  def cargar_datos( self , ruta_arch ):\n",
        "    arch = open(ruta_arch , \"rt\" , encoding='latin1')\n",
        "    lineas = arch.readlines()\n",
        "    arch.close()\n",
        "    self.__data = Array( len(lineas) - 1)\n",
        "\n",
        "    for linea in lineas:\n",
        "      print(linea)\n",
        "      #separa campos\n",
        "      #crear un objeto\n",
        "      #Cargar ese objeto a self.__data.set_item\n",
        "ejm = Sueldos()\n",
        "ejm.cargar_datos('Empleados.dat')"
      ],
      "execution_count": null,
      "outputs": []
    }
  ]
}