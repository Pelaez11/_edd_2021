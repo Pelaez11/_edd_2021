{
  "nbformat": 4,
  "nbformat_minor": 0,
  "metadata": {
    "colab": {
      "name": "02sep2020.ipynb",
      "provenance": [],
      "authorship_tag": "ABX9TyMU4JN0LIYJauMkbVoMM3zX",
      "include_colab_link": true
    },
    "kernelspec": {
      "name": "python3",
      "display_name": "Python 3"
    }
  },
  "cells": [
    {
      "cell_type": "markdown",
      "metadata": {
        "id": "view-in-github",
        "colab_type": "text"
      },
      "source": [
        "<a href=\"https://colab.research.google.com/github/Pelaez11/_edd_2021/blob/master/02sep2020.ipynb\" target=\"_parent\"><img src=\"https://colab.research.google.com/assets/colab-badge.svg\" alt=\"Open In Colab\"/></a>"
      ]
    },
    {
      "cell_type": "markdown",
      "metadata": {
        "id": "Ovp2aEw-3PCV"
      },
      "source": [
        "#Tipos de datos\n",
        "-String           str\n",
        "\n",
        "-Entero           int\n",
        "\n",
        "-Número flotante  float\n",
        "\n",
        "-Lógico           bool\n",
        "\n",
        "-Número compejo   complex\n",
        "\n",
        "-Listas           list\n",
        "\n",
        "-Tuplas           tuple\n",
        "\n",
        "-Diccionario      dict\n",
        "\n",
        "-Cojuntos         set"
      ]
    },
    {
      "cell_type": "code",
      "metadata": {
        "id": "GE_lSbgq35z-",
        "outputId": "7e995256-ccc2-4e04-888b-3f872252f9f7",
        "colab": {
          "base_uri": "https://localhost:8080/",
          "height": 151
        }
      },
      "source": [
        "#String emplea \"\", '' o \"\"\" \"\"\"\"\n",
        "universidad = \" universidad nacional de mexico \"\n",
        "print(universidad)\n",
        "#Cuando el string es una sola palabra se usa comillas sencillas '' = Buena práctica\n",
        "\n",
        "carrera = 'ico'\n",
        "area = \" software\"\n",
        "division = \"división de las ciencias físico matemáticos\"\n",
        "print(carrera,area)\n",
        "print(division)\n",
        "#Cuando usar 3ples comillas \"\"\" incluye varios renglones\n",
        "frase = \"\"\"\n",
        "Si\n",
        "funciona, ¡¡No lo\n",
        "arregles!!\n",
        "\"\"\"\n",
        "print(frase)\n"
      ],
      "execution_count": 1,
      "outputs": [
        {
          "output_type": "stream",
          "text": [
            " univesidad nacional de mexico \n",
            "ico  software\n",
            "división de las ciencias físico matemáticos\n",
            "\n",
            "Si\n",
            "funciona, ¡¡No lo\n",
            "arregles!!\n",
            "\n"
          ],
          "name": "stdout"
        }
      ]
    },
    {
      "cell_type": "code",
      "metadata": {
        "id": "-ujN1nDj50GS"
      },
      "source": [
        "#Todas las letras en mayusculas\n",
        "print(universidad.upper())\n",
        "#Frase normal\n",
        "print(\"----------\")\n",
        "print(universidad)\n",
        "#Pone las primeras letras de las palbras en mayúsculas\n",
        "print(\"//////////\")\n",
        "print(universidad.title())\n",
        "#Eliminar espacios en blanco a la derecha e izquierda y saltos en linea\n",
        "print(\"********\")\n",
        "universidad = universidad.strip()\n",
        "print(universidad)\n",
        "#Lo regresa en lista\n",
        "print(\"opc 1 ****\")\n",
        "print(universidad.split())\n",
        "print(\"opc 2 ***\")\n",
        "lis = universidad.split(\" \")\n",
        "print(lis)\n",
        "nueva = \"\"\n",
        "for l in lis:\n",
        "  if len(l) >  0:\n",
        "    nueva += l + \" \"\n",
        "print(nueva)\n",
        "\n",
        "num = \"1,2,3,4,11\"\n",
        "separ = num.split(\",\")\n",
        "print(separ)\n",
        "num_int = []\n",
        "for num in separ:\n",
        "  num_int.append(int(num))\n",
        "\n",
        "print(num_int)\n",
        "print(nueva)\n",
        "print(\"++++++++++++\")\n",
        "#indica la posiciión en que se encuentra esas letras\n",
        "print(nueva.index(\"na\"))\n",
        "print(\"//////////////////\")\n",
        "#Remplaza lo que menciones por otra cosa\n",
        "print(nueva.replace(' ', '-'))\n",
        "print(nueva)\n",
        "\n"
      ],
      "execution_count": null,
      "outputs": []
    },
    {
      "cell_type": "markdown",
      "metadata": {
        "id": "7XxdRYGb_VEC"
      },
      "source": [
        "#\"SLICING\"\n",
        "Sintaxis \n",
        "\n",
        "UTILIZAS [ inicio : stop : incremento]\n"
      ]
    },
    {
      "cell_type": "code",
      "metadata": {
        "id": "qIkbFEKA_3Sl"
      },
      "source": [
        "#SELECTOR DE ELEMENTOS DENTRO DE STRING\n",
        "print(nueva[0])\n",
        "nueva = nueva.strip() #Quita espacio\n",
        "print(nueva[len(nueva) -1]) #Indexado negativo\n",
        "print(nueva[-2]) #Imprime las letras de la posición que le indica\n",
        "#SLICING\n",
        "print(\"///////////\")\n",
        "#Saca las letras mencionada de una posición hasta otra posición\n",
        "print(nueva[ 11 : 20 : 1]) #Positivo el tercer valor va a la derecha\n",
        "print(nueva[ -6 :  : 1]) #Se indica de donde inicia y se deja el valor por defecto es decir se deja en blanco.\n",
        "print(\"///////////\")\n",
        "#Mexico al reves con slicing\n",
        "print(nueva[ -1 : -7 : -1]) #Negativo tercer valor (incremento) va a la izquierda\n",
        "print(\"*******\")\n",
        "#Valor por defecto [ 0 : long de la lista : 1]\n",
        "print(nueva[ : :2]) #TERCER VALOR INDICA EL \"INCREMENTO\"\n"
      ],
      "execution_count": null,
      "outputs": []
    },
    {
      "cell_type": "markdown",
      "metadata": {
        "id": "I9ERbRXPEAY2"
      },
      "source": [
        "#BOOL\n",
        "Acepta solo dos valores\n",
        "\n",
        "True bool(1) \n",
        "\n",
        "False bool(0)"
      ]
    },
    {
      "cell_type": "code",
      "metadata": {
        "id": "r79UfhvjEPlo"
      },
      "source": [
        "print(bool(0))\n",
        "print(bool(1511))\n",
        "flag = 0\n",
        "print(bool(flag))\n",
        "print(True)"
      ],
      "execution_count": null,
      "outputs": []
    },
    {
      "cell_type": "markdown",
      "metadata": {
        "id": "VpVhxGnZFLXE"
      },
      "source": [
        "#COMENTARIOS\n",
        "Para un comentario de una línea se usa #; \n",
        "\n",
        "Para un comnetario de múltiple línea se usa /**/ de java y leng c se utiliza \"\"."
      ]
    },
    {
      "cell_type": "code",
      "metadata": {
        "id": "NOXAVVBrFmhn"
      },
      "source": [
        "#Este es un comentario de línea simple\n",
        "\n",
        "\"\"\"\n",
        "Este\n",
        " es un\n",
        "  comentario de\n",
        "   múltiple \n",
        "  línea\n",
        "\"\"\"  "
      ],
      "execution_count": null,
      "outputs": []
    },
    {
      "cell_type": "markdown",
      "metadata": {
        "id": "Xa2sskpJF01M"
      },
      "source": [
        "# FUNCIÓN PRINT\n",
        "Hay 4 formas de usar \"print\"\n",
        "1. con comas (,)\n",
        "2. con signo + (+)\n",
        "3. con la función format() de la clase string\n",
        "4. con el operador f\"\""
      ]
    },
    {
      "cell_type": "code",
      "metadata": {
        "id": "XriCgtTAGKpL",
        "outputId": "f7454486-2ea2-4e39-cf19-a3988d3a2873",
        "colab": {
          "base_uri": "https://localhost:8080/",
          "height": 84
        }
      },
      "source": [
        "#Con comas (,)\n",
        "cant = 2 \n",
        "prec_chet = 8\n",
        "prec_soda = 12\n",
        "print(cant,prec_chet,prec_soda)\n",
        "\n",
        "#Con signo solo opera con str\n",
        "print(\"hola\" + \" mundo\")\n",
        "print(cant, '=', prec_chet + prec_soda)\n",
        "print(str(cant) + str(prec_chet) + str(prec_soda))\n"
      ],
      "execution_count": 40,
      "outputs": [
        {
          "output_type": "stream",
          "text": [
            "2 8 12\n",
            "hola mundo\n",
            "2 = 20\n",
            "2812\n"
          ],
          "name": "stdout"
        }
      ]
    }
  ]
}