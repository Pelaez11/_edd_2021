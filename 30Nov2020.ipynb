{
  "nbformat": 4,
  "nbformat_minor": 0,
  "metadata": {
    "colab": {
      "name": "30Nov2020.ipynb",
      "provenance": [],
      "collapsed_sections": [],
      "authorship_tag": "ABX9TyO7/z8kIJ1Cay/8NephEpOr",
      "include_colab_link": true
    },
    "kernelspec": {
      "name": "python3",
      "display_name": "Python 3"
    }
  },
  "cells": [
    {
      "cell_type": "markdown",
      "metadata": {
        "id": "view-in-github",
        "colab_type": "text"
      },
      "source": [
        "<a href=\"https://colab.research.google.com/github/Pelaez11/_edd_2021/blob/master/30Nov2020.ipynb\" target=\"_parent\"><img src=\"https://colab.research.google.com/assets/colab-badge.svg\" alt=\"Open In Colab\"/></a>"
      ]
    },
    {
      "cell_type": "code",
      "metadata": {
        "id": "EuttcVNT8Zoz"
      },
      "source": [
        "class Stack:\n",
        "  def __init__(self):\n",
        "    self.__data = []\n",
        "    self.__size = 0\n",
        "\n",
        "  def pop(self):\n",
        "    return self.__data.pop()\n",
        "\n",
        "  def peek(self):\n",
        "    return self.__data[-1]\n",
        "\n",
        "  def push(self, value):\n",
        "    self.__data.append(value)\n",
        "\n",
        "  def to_string(self):\n",
        "    print(\"-----\")\n",
        "    for dato in self.__data[::-1]:\n",
        "      print(f\"| {dato} |\")\n",
        "      print(\"-----\")"
      ],
      "execution_count": 19,
      "outputs": []
    },
    {
      "cell_type": "code",
      "metadata": {
        "colab": {
          "base_uri": "https://localhost:8080/"
        },
        "id": "K2585h26_9xz",
        "outputId": "a87b04dc-25de-4516-a74f-5d0dbf94b67c"
      },
      "source": [
        "pl = Stack()\n",
        "pl.push(34)\n",
        "pl.push(10)\n",
        "pl.push(45)\n",
        "pl.push(4)\n",
        "pl.push(23)\n",
        "pl.push(33)\n",
        "valor = pl.pop()\n",
        "print(valor * 2)\n",
        "pl.to_string()\n",
        "valor = pl.peek()\n",
        "print(valor * 2)\n",
        "pl.to_string()"
      ],
      "execution_count": 21,
      "outputs": [
        {
          "output_type": "stream",
          "text": [
            "66\n",
            "-----\n",
            "| 23 |\n",
            "-----\n",
            "| 4 |\n",
            "-----\n",
            "| 45 |\n",
            "-----\n",
            "| 10 |\n",
            "-----\n",
            "| 34 |\n",
            "-----\n",
            "46\n",
            "-----\n",
            "| 23 |\n",
            "-----\n",
            "| 4 |\n",
            "-----\n",
            "| 45 |\n",
            "-----\n",
            "| 10 |\n",
            "-----\n",
            "| 34 |\n",
            "-----\n"
          ],
          "name": "stdout"
        }
      ]
    },
    {
      "cell_type": "code",
      "metadata": {
        "colab": {
          "base_uri": "https://localhost:8080/"
        },
        "id": "75Hh5XUqByxk",
        "outputId": "2bbb871b-2ce2-4d0c-8b3e-94bfbae16fac"
      },
      "source": [
        "#Aplicaciones de la estructura Stack\n",
        "#1-. Validación de parentesís balenciados '(' , '{' y '['\n",
        "\n",
        "cad = \"b=3*(5+(4/2))\"\n",
        "pila = Stack() \n",
        "pila.push(\"#\") #Carácter de pila vacía.\n",
        "\n",
        "for elem in cad:\n",
        "  if elem == '(':\n",
        "    pila.push('*')\n",
        "  elif elem == ')':\n",
        "    pila.pop()\n",
        "  else:\n",
        "    pass\n",
        "\n",
        "if pila.peek() == '#':\n",
        "  print(\"La expresión está balanceada en parentesis\")\n",
        "else: \n",
        "  print(f\"La expresión no está balanceada\")\n",
        "\n",
        "\n",
        "\n",
        "\n"
      ],
      "execution_count": 24,
      "outputs": [
        {
          "output_type": "stream",
          "text": [
            "La expresión está balanceada en parentesis\n"
          ],
          "name": "stdout"
        }
      ]
    }
  ]
}