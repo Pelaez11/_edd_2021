{
  "nbformat": 4,
  "nbformat_minor": 0,
  "metadata": {
    "colab": {
      "name": "08Enero2021.ipynb",
      "provenance": [],
      "collapsed_sections": [],
      "authorship_tag": "ABX9TyPPig155LmDwcztocPHEGns",
      "include_colab_link": true
    },
    "kernelspec": {
      "name": "python3",
      "display_name": "Python 3"
    }
  },
  "cells": [
    {
      "cell_type": "markdown",
      "metadata": {
        "id": "view-in-github",
        "colab_type": "text"
      },
      "source": [
        "<a href=\"https://colab.research.google.com/github/Pelaez11/_edd_2021/blob/master/08Enero2021.ipynb\" target=\"_parent\"><img src=\"https://colab.research.google.com/assets/colab-badge.svg\" alt=\"Open In Colab\"/></a>"
      ]
    },
    {
      "cell_type": "code",
      "metadata": {
        "id": "KKUyatwQwjUc"
      },
      "source": [
        "class Queue:\r\n",
        "  def __init__(self):\r\n",
        "    self.__data = list()\r\n",
        "\r\n",
        "  def is_empty(self):\r\n",
        "    return len (self.__data) == 0\r\n",
        "\r\n",
        "  def length (self):\r\n",
        "    return len(self.__data)\r\n",
        "\r\n",
        "  def enqueue(self, item):\r\n",
        "    self.__data.append( item )\r\n",
        "    \r\n",
        "  def dequeue(self):\r\n",
        "    if not self.is_empty():      \r\n",
        "      return self.__data.pop(0)\r\n",
        "    else:\r\n",
        "      return None\r\n",
        "\r\n",
        "  def to_string(self):\r\n",
        "    cadena = \"\"\r\n",
        "    for elem in self.__data:\r\n",
        "      cadena = cadena + \"| \" + elem\r\n",
        "    cadena = cadena + \" |\"\r\n",
        "    return cadena"
      ],
      "execution_count": 39,
      "outputs": []
    },
    {
      "cell_type": "code",
      "metadata": {
        "id": "67j8JPHqz8vJ"
      },
      "source": [
        "class BoundedPriorityQueue:\r\n",
        "  def __init__( self, niveles ):\r\n",
        "    self.__data = [ Queue for x in range(niveles) ]\r\n",
        "    self.__size = 0\r\n",
        "\r\n",
        "  def is_empty( self ):\r\n",
        "    return self.__size == 0\r\n",
        "\r\n",
        "  def length( self ):\r\n",
        "    return self.__size\r\n",
        "\r\n",
        "  def enqueue( self, prioridad, elem ):\r\n",
        "    if prioridad < len(self.__data) and prioridad >= 0:\r\n",
        "       self.__data[prioridad].enqueue( elem )\r\n",
        "       self.__size +=1\r\n",
        "    else:\r\n",
        "      print(\"Prioridad fuera de rango.\")\r\n",
        "\r\n",
        "  def dequeue( self ):\r\n",
        "    if not self.is_empty():\r\n",
        "      nivel = 0\r\n",
        "      while self.__data[nivel].is_empty():\r\n",
        "        nivel += 1\r\n",
        "      return self.__data[nivel].dequeue()\r\n",
        "\r\n",
        "  def to_string( self ):\r\n",
        "    for nivel in range( len(self.__data) ):\r\n",
        "      print(f\"Nivel { nivel } --> {self.__data[nivel].to_string}\")\r\n",
        "  "
      ],
      "execution_count": 40,
      "outputs": []
    },
    {
      "cell_type": "code",
      "metadata": {
        "colab": {
          "base_uri": "https://localhost:8080/",
          "height": 353
        },
        "id": "zlZWwT8j13el",
        "outputId": "ae34c980-3215-44b4-9c5f-eaba7f13528c"
      },
      "source": [
        "cpa = BoundedPriorityQueue( 5 )\r\n",
        "\"\"\"\r\n",
        "Prioridad    Nombre\r\n",
        "2            Diana\r\n",
        "3            Santiago \r\n",
        "0            Roberto \r\n",
        "0            Mayra \r\n",
        "2            María \r\n",
        "3            José \r\n",
        "4            Elena\r\n",
        "\"\"\"\r\n",
        "cpa.enqueue(2, \"Diana\")\r\n",
        "cpa.to_string()\r\n",
        "cpa.enqueue(3, \"Santiago\")\r\n",
        "cpa.enqueue(0, \"Roberto\")\r\n",
        "cpa.enqueue(0, \"Mayra\")\r\n",
        "cpa.enqueue(2, \"María\")\r\n",
        "cpa.enqueue(3, \"José\")\r\n",
        "cpa.enqueue(4, \"Elena\")\r\n",
        "\r\n",
        "cpa.to_string()\r\n",
        "siguiente = cpa.dequeue\r\n",
        "print(siguiente)\r\n",
        "cpa.to_string()"
      ],
      "execution_count": 41,
      "outputs": [
        {
          "output_type": "error",
          "ename": "TypeError",
          "evalue": "ignored",
          "traceback": [
            "\u001b[0;31m---------------------------------------------------------------------------\u001b[0m",
            "\u001b[0;31mTypeError\u001b[0m                                 Traceback (most recent call last)",
            "\u001b[0;32m<ipython-input-41-3f84d394db56>\u001b[0m in \u001b[0;36m<module>\u001b[0;34m()\u001b[0m\n\u001b[1;32m     10\u001b[0m \u001b[0;36m4\u001b[0m            \u001b[0mElena\u001b[0m\u001b[0;34m\u001b[0m\u001b[0;34m\u001b[0m\u001b[0m\n\u001b[1;32m     11\u001b[0m \"\"\"\n\u001b[0;32m---> 12\u001b[0;31m \u001b[0mcpa\u001b[0m\u001b[0;34m.\u001b[0m\u001b[0menqueue\u001b[0m\u001b[0;34m(\u001b[0m\u001b[0;36m2\u001b[0m\u001b[0;34m,\u001b[0m \u001b[0;34m\"Diana\"\u001b[0m\u001b[0;34m)\u001b[0m\u001b[0;34m\u001b[0m\u001b[0;34m\u001b[0m\u001b[0m\n\u001b[0m\u001b[1;32m     13\u001b[0m \u001b[0mcpa\u001b[0m\u001b[0;34m.\u001b[0m\u001b[0mto_string\u001b[0m\u001b[0;34m(\u001b[0m\u001b[0;34m)\u001b[0m\u001b[0;34m\u001b[0m\u001b[0;34m\u001b[0m\u001b[0m\n\u001b[1;32m     14\u001b[0m \u001b[0mcpa\u001b[0m\u001b[0;34m.\u001b[0m\u001b[0menqueue\u001b[0m\u001b[0;34m(\u001b[0m\u001b[0;36m3\u001b[0m\u001b[0;34m,\u001b[0m \u001b[0;34m\"Santiago\"\u001b[0m\u001b[0;34m)\u001b[0m\u001b[0;34m\u001b[0m\u001b[0;34m\u001b[0m\u001b[0m\n",
            "\u001b[0;32m<ipython-input-40-4318eee71a1b>\u001b[0m in \u001b[0;36menqueue\u001b[0;34m(self, prioridad, elem)\u001b[0m\n\u001b[1;32m     12\u001b[0m   \u001b[0;32mdef\u001b[0m \u001b[0menqueue\u001b[0m\u001b[0;34m(\u001b[0m \u001b[0mself\u001b[0m\u001b[0;34m,\u001b[0m \u001b[0mprioridad\u001b[0m\u001b[0;34m,\u001b[0m \u001b[0melem\u001b[0m \u001b[0;34m)\u001b[0m\u001b[0;34m:\u001b[0m\u001b[0;34m\u001b[0m\u001b[0;34m\u001b[0m\u001b[0m\n\u001b[1;32m     13\u001b[0m     \u001b[0;32mif\u001b[0m \u001b[0mprioridad\u001b[0m \u001b[0;34m<\u001b[0m \u001b[0mlen\u001b[0m\u001b[0;34m(\u001b[0m\u001b[0mself\u001b[0m\u001b[0;34m.\u001b[0m\u001b[0m__data\u001b[0m\u001b[0;34m)\u001b[0m \u001b[0;32mand\u001b[0m \u001b[0mprioridad\u001b[0m \u001b[0;34m>=\u001b[0m \u001b[0;36m0\u001b[0m\u001b[0;34m:\u001b[0m\u001b[0;34m\u001b[0m\u001b[0;34m\u001b[0m\u001b[0m\n\u001b[0;32m---> 14\u001b[0;31m        \u001b[0mself\u001b[0m\u001b[0;34m.\u001b[0m\u001b[0m__data\u001b[0m\u001b[0;34m[\u001b[0m\u001b[0mprioridad\u001b[0m\u001b[0;34m]\u001b[0m\u001b[0;34m.\u001b[0m\u001b[0menqueue\u001b[0m\u001b[0;34m(\u001b[0m \u001b[0melem\u001b[0m \u001b[0;34m)\u001b[0m\u001b[0;34m\u001b[0m\u001b[0;34m\u001b[0m\u001b[0m\n\u001b[0m\u001b[1;32m     15\u001b[0m        \u001b[0mself\u001b[0m\u001b[0;34m.\u001b[0m\u001b[0m__size\u001b[0m \u001b[0;34m+=\u001b[0m\u001b[0;36m1\u001b[0m\u001b[0;34m\u001b[0m\u001b[0;34m\u001b[0m\u001b[0m\n\u001b[1;32m     16\u001b[0m     \u001b[0;32melse\u001b[0m\u001b[0;34m:\u001b[0m\u001b[0;34m\u001b[0m\u001b[0;34m\u001b[0m\u001b[0m\n",
            "\u001b[0;31mTypeError\u001b[0m: enqueue() missing 1 required positional argument: 'item'"
          ]
        }
      ]
    }
  ]
}