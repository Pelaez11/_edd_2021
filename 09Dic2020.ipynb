{
  "nbformat": 4,
  "nbformat_minor": 0,
  "metadata": {
    "colab": {
      "name": "09Dic2020.ipynb",
      "provenance": [],
      "collapsed_sections": [],
      "authorship_tag": "ABX9TyOy9d+aztDKq8ScLm7lFqZR",
      "include_colab_link": true
    },
    "kernelspec": {
      "name": "python3",
      "display_name": "Python 3"
    }
  },
  "cells": [
    {
      "cell_type": "markdown",
      "metadata": {
        "id": "view-in-github",
        "colab_type": "text"
      },
      "source": [
        "<a href=\"https://colab.research.google.com/github/Pelaez11/_edd_2021/blob/master/09Dic2020.ipynb\" target=\"_parent\"><img src=\"https://colab.research.google.com/assets/colab-badge.svg\" alt=\"Open In Colab\"/></a>"
      ]
    },
    {
      "cell_type": "code",
      "metadata": {
        "id": "0qRLYMhlhhOG"
      },
      "source": [
        "\"\"\"\r\n",
        "Array2D\r\n",
        "\"\"\"\r\n",
        "\r\n",
        "class Array2D:\r\n",
        "\r\n",
        "    def __init__(self,rows, cols, value):\r\n",
        "        self.__cols = cols\r\n",
        "        self.__rows = rows\r\n",
        "        self.__array=[[value for x in range(self.__cols)] for y in range(self.__rows)]\r\n",
        "\r\n",
        "    def to_string(self):\r\n",
        "        [print(\"---\",end=\"\") for x in range(self.__cols)]\r\n",
        "        print(\"\")\r\n",
        "        for ren in self.__array:\r\n",
        "            print(ren)\r\n",
        "        [print(\"---\",end=\"\") for x in range(self.__cols)]\r\n",
        "        print(\"\")\r\n",
        "\r\n",
        "    def get_num_rows(self):\r\n",
        "        return self.__rows\r\n",
        "\r\n",
        "    def get_num_cols(self):\r\n",
        "        return self.__cols\r\n",
        "\r\n",
        "    def get_item(self,row,col):\r\n",
        "        return self.__array[row][col]\r\n",
        "\r\n",
        "    def set_item( self , row , col , valor ):\r\n",
        "        self.__array[row][col]=valor\r\n",
        "\r\n",
        "    def clearing(self, valor=0):\r\n",
        "        for ren in range(self.__rows):\r\n",
        "            for col in range(self.__cols):\r\n",
        "                self.__array[ren][col]=valor"
      ],
      "execution_count": null,
      "outputs": []
    },
    {
      "cell_type": "code",
      "metadata": {
        "id": "ArBJUqRZhxJZ"
      },
      "source": [
        "class Stack:\r\n",
        "    def __init__(self):\r\n",
        "        self.__data = []\r\n",
        "        self.__size = 0\r\n",
        "\r\n",
        "    def pop(self):\r\n",
        "        return self.__data.pop()\r\n",
        "\r\n",
        "    def get_size(self):\r\n",
        "        return self.__size\r\n",
        "\r\n",
        "    def peak(self):\r\n",
        "        if len(self.__data) > 0:\r\n",
        "            return self.__data[-1]\r\n",
        "        else:\r\n",
        "            return None\r\n",
        "\r\n",
        "    def push(self,value):\r\n",
        "        self.__data.append(value)\r\n",
        "        self.__size += 1\r\n",
        "\r\n",
        "    def to_string(self):\r\n",
        "        print(\"-\"*6)\r\n",
        "        for dato in self.__data[::-1]:\r\n",
        "            print(f\"| {dato} |\")\r\n",
        "            print(\"/\" * 6)\r\n",
        "        print(\"\")"
      ],
      "execution_count": null,
      "outputs": []
    },
    {
      "cell_type": "code",
      "metadata": {
        "id": "nq8dY-pMh0eY"
      },
      "source": [
        "class LaberintoADT:\r\n",
        "  def __init__(self, archivo):\r\n",
        "    self.__labto = Array2D(0,0,0)\r\n",
        "    self.__camino = Stack()\r\n",
        "    self.__rens = 0\r\n",
        "    self.__cols = 0\r\n",
        "    self.__entrada = (0,0)\r\n",
        "\r\n",
        "    entrada = open(archivo, 'rt')\r\n",
        "    datos = entrada.readlines()\r\n",
        "    self.__rens = int(datos.pop(0).strip())\r\n",
        "    self.__cols = int(datos.pop(0).strip())\r\n",
        "    self.__entrada = list(datos[0].strip().split(','))\r\n",
        "    self.__entrada[0] = int(self.__entrada[0])\r\n",
        "    self.__entrada[1] = int(self.__entrada[1])\r\n",
        "    self.__camino.push((self.__entrada[0], self.__entrada[1]))\r\n",
        "\r\n",
        "    datos.pop(0) #Elimina la tupla\r\n",
        "    #print(self.__rens, self.__cols, self.__entrada)\r\n",
        "    #print(datos)\r\n",
        "\r\n",
        "    self.__labto = Array2D(self.__rens, self.__cols, '1')\r\n",
        "    for renglon in range(self.__rens):\r\n",
        "      info_ren = datos[renglon].strip().split(',')\r\n",
        "      for columna in range(self.__cols):\r\n",
        "        self.__labto.set_item(renglon, columna, info_ren[columna])\r\n",
        "\r\n",
        "  def imp_camino(self):\r\n",
        "    self.__camino.to_string()\r\n",
        "\r\n",
        "  def mostrar(self):\r\n",
        "    self.__labto.to_string()\r\n",
        "\r\n",
        "  def resolver (self):\r\n",
        "    act = self.__camino.peek()\r\n",
        "    #busq a la izq\r\n",
        "    if self.__labto.get_item(actual[0], actual[1] - 1) == '0' and elf.__labto.get_item(actual[0], actual[1] - 1) != 'x' and self.__previa != (actual[0], actual[1] - 1):\r\n",
        "      self.__previa = actual\r\n",
        "      self.__camino.push((actual[0], actual[1] - 1))\r\n",
        "    #busq a arriba\r\n",
        "    elif self.__labto.get_item(actual[0] - 1, actual[1]) == '0' and elf.__labto.get_item(actual[0] - 1, actual[1]) != 'x' and self.__previa != (actual[0] - 1, actual[1]):\r\n",
        "      self.__previa = actual\r\n",
        "      self.__camino.push((actual[0] - 1, actual[1]))\r\n",
        "    #busq a la derecha\r\n",
        "    elif 1 == 2:\r\n",
        "      pass\r\n",
        "    #busq abajo\r\n",
        "    elif 1 == 2:\r\n",
        "      pass\r\n",
        "    else:\r\n",
        "      self.__labto.set_item(actual[0], actual[1], 'x')\r\n",
        "      self.__camino.pop()\r\n",
        "\r\n",
        "\r\n",
        "  def otros():\r\n",
        "    pass\r\n"
      ],
      "execution_count": null,
      "outputs": []
    },
    {
      "cell_type": "code",
      "metadata": {
        "id": "9JvP-aaNh7dr"
      },
      "source": [
        "#main\r\n",
        "labto = LaberintoADT(\"entrada.txt\")\r\n",
        "labto.mostrar()\r\n",
        "labto.imp_camino()"
      ],
      "execution_count": null,
      "outputs": []
    }
  ]
}