{
  "nbformat": 4,
  "nbformat_minor": 0,
  "metadata": {
    "colab": {
      "name": "T7 Pilas.ipynb",
      "provenance": [],
      "collapsed_sections": [],
      "authorship_tag": "ABX9TyMdZrewq39AeEc1Oqew/4CC",
      "include_colab_link": true
    },
    "kernelspec": {
      "name": "python3",
      "display_name": "Python 3"
    }
  },
  "cells": [
    {
      "cell_type": "markdown",
      "metadata": {
        "id": "view-in-github",
        "colab_type": "text"
      },
      "source": [
        "<a href=\"https://colab.research.google.com/github/Pelaez11/_edd_2021/blob/master/T7_Pilas.ipynb\" target=\"_parent\"><img src=\"https://colab.research.google.com/assets/colab-badge.svg\" alt=\"Open In Colab\"/></a>"
      ]
    },
    {
      "cell_type": "code",
      "metadata": {
        "id": "hbyKO1fMyF3e"
      },
      "source": [
        "class Stack:\n",
        "  def __init__(self):\n",
        "    self.__data = []\n",
        "    self.__size = 0\n",
        "\n",
        "  def pop(self):\n",
        "    return self.__data.pop()\n",
        "\n",
        "  def peek(self):\n",
        "    \n",
        "    if len(self.__data) > 0:\n",
        "      return self.__data[-1]\n",
        "    else:\n",
        "      pass\n",
        "\n",
        "  def push(self, value):\n",
        "    self.__data.append(value)\n",
        "    "
      ],
      "execution_count": 5,
      "outputs": []
    },
    {
      "cell_type": "code",
      "metadata": {
        "colab": {
          "base_uri": "https://localhost:8080/"
        },
        "id": "aQ-_VT985-LT",
        "outputId": "2cdb9053-5c78-437a-9832-bad11e0abfb3"
      },
      "source": [
        "#Aplicaciones de la estructura Stack\n",
        "# 1-. Validación de parentesís balanciados '(' , '{' y '['\n",
        "\n",
        "cad = \"b=3*(5+(4/2))\"\n",
        "pila = Stack() \n",
        "pila.push(\"#\") #Carácter de pila vacía.\n",
        "\n",
        "for elem in cad:\n",
        "  if elem == '(':\n",
        "    pila.push('*')\n",
        "  elif elem == ')':\n",
        "    pila.pop()\n",
        "\n",
        "if pila.peek() == '#':\n",
        "  print(\"La expresión está balanceada en parentesis\")\n",
        "else: \n",
        "  print(f\"La expresión no está balanceada\")"
      ],
      "execution_count": 11,
      "outputs": [
        {
          "output_type": "stream",
          "text": [
            "La expresión está balanceada en parentesis\n"
          ],
          "name": "stdout"
        }
      ]
    },
    {
      "cell_type": "code",
      "metadata": {
        "colab": {
          "base_uri": "https://localhost:8080/"
        },
        "id": "Noic_xJX5Pbg",
        "outputId": "ee286296-5ce6-46f3-9d1f-5d5a69f7a230"
      },
      "source": [
        "# 2-. Validación de más parentesis abiertos\n",
        "cad = \"b=3*((5+(4/2))\"\n",
        "pila = Stack() \n",
        "pila.push(\"#\") #Carácter de pila vacía.\n",
        "\n",
        "for elem in cad:\n",
        "  if elem == '(':\n",
        "    pila.push('*')\n",
        "  elif elem == ')':\n",
        "    pila.pop()\n",
        "\n",
        "if pila.peek() == '#':\n",
        "  print(\"La expresión está balanceada en parentesis\")\n",
        "else: \n",
        "  print(f\"La expresión no está balanceada tiene más parentesís abiertos\")"
      ],
      "execution_count": 10,
      "outputs": [
        {
          "output_type": "stream",
          "text": [
            "La expresión no está balanceada tiene más parentesís abiertos\n"
          ],
          "name": "stdout"
        }
      ]
    },
    {
      "cell_type": "code",
      "metadata": {
        "colab": {
          "base_uri": "https://localhost:8080/"
        },
        "id": "4Z5uzRoJ1t6Y",
        "outputId": "bae30a21-58ac-49ad-c4fd-9361368030c3"
      },
      "source": [
        "# 3-. Validación de más parentesis cerrados\n",
        "cad = \"b=3*(5+(4/2)))\"\n",
        "pila = Stack() \n",
        "pila.push(\"#\") #Carácter de pila vacía.\n",
        "\n",
        "for elem in cad:\n",
        "  if elem == '(':\n",
        "    pila.push('*')\n",
        "  elif elem == ')':\n",
        "    pila.pop()\n",
        "\n",
        "if pila.peek() == '#':\n",
        "  print(\"La expresión está balanceada en parentesis\")\n",
        "else: \n",
        "  print(f\"La expresión no está balanceada tiene más parentesís cerrados\")"
      ],
      "execution_count": 9,
      "outputs": [
        {
          "output_type": "stream",
          "text": [
            "La expresión no está balanceada tiene más parentesís cerrados\n"
          ],
          "name": "stdout"
        }
      ]
    }
  ]
}