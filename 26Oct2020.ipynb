{
  "nbformat": 4,
  "nbformat_minor": 0,
  "metadata": {
    "colab": {
      "name": "26Oct2020.ipynb",
      "provenance": [],
      "authorship_tag": "ABX9TyN1fTHl4Hs/gTTeH2TyAgEF",
      "include_colab_link": true
    },
    "kernelspec": {
      "name": "python3",
      "display_name": "Python 3"
    }
  },
  "cells": [
    {
      "cell_type": "markdown",
      "metadata": {
        "id": "view-in-github",
        "colab_type": "text"
      },
      "source": [
        "<a href=\"https://colab.research.google.com/github/Pelaez11/_edd_2021/blob/master/26Oct2020.ipynb\" target=\"_parent\"><img src=\"https://colab.research.google.com/assets/colab-badge.svg\" alt=\"Open In Colab\"/></a>"
      ]
    },
    {
      "cell_type": "code",
      "metadata": {
        "id": "k5IepfT8qomu",
        "outputId": "fc80143b-ddf3-45f0-d46f-ff4ea51c0a5e",
        "colab": {
          "base_uri": "https://localhost:8080/",
          "height": 35
        }
      },
      "source": [
        "\"\"\"\n",
        "ARRAY \n",
        "\"\"\"\n",
        "class Array:\n",
        "  def __init__( self , tam ):\n",
        "    self.__datos = [ 0 for x in range(tam) ]\n",
        "    \n",
        "  def get_item ( self, index ):\n",
        "    return self.__datos[index]\n",
        "\n",
        "mi_arreglo  = Array(10)\n",
        "print(mi_arreglo.get_item( 2 ))\n",
        "\n",
        "  \n"
      ],
      "execution_count": 3,
      "outputs": [
        {
          "output_type": "stream",
          "text": [
            "0\n"
          ],
          "name": "stdout"
        }
      ]
    }
  ]
}