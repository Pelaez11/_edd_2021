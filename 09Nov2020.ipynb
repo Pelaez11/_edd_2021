{
  "nbformat": 4,
  "nbformat_minor": 0,
  "metadata": {
    "colab": {
      "name": "09Nov2020.ipynb",
      "provenance": [],
      "collapsed_sections": [],
      "include_colab_link": true
    },
    "kernelspec": {
      "name": "python3",
      "display_name": "Python 3"
    }
  },
  "cells": [
    {
      "cell_type": "markdown",
      "metadata": {
        "id": "view-in-github",
        "colab_type": "text"
      },
      "source": [
        "<a href=\"https://colab.research.google.com/github/Pelaez11/_edd_2021/blob/master/09Nov2020.ipynb\" target=\"_parent\"><img src=\"https://colab.research.google.com/assets/colab-badge.svg\" alt=\"Open In Colab\"/></a>"
      ]
    },
    {
      "cell_type": "code",
      "metadata": {
        "id": "brBgCKaN-X5E",
        "outputId": "c8c9dd2c-9696-4673-84c9-9d6031776ad1",
        "colab": {
          "base_uri": "https://localhost:8080/"
        }
      },
      "source": [
        "class Nodo: \n",
        "    def __init__(self, dato):\n",
        "        self.__dato = dato\n",
        "        self.__siguiente = None\n",
        "    def get_dato(self):\n",
        "        return self.__dato\n",
        "    def set_dato(self, d):\n",
        "        self.__dato = d\n",
        "    def get_siguiente(self):\n",
        "        return self.__siguiente\n",
        "    def set_siguiente(self,d):\n",
        "        self.__siguiente = d\n",
        "    def to_string(self):\n",
        "        return \" | \"+ str(self._dato)+\" | \"+str(self._siguiente)+\" |--->\"\n",
        "    def show( self ):\n",
        "        curr_node = self # Head\n",
        "        print(\" Inicio de la estructura ligada:\")\n",
        "        print(\"|\" + str(curr_node.get_dato()) + \"| -->\" , end =\"\" )\n",
        "        while( curr_node.get_siguiente() != None ):\n",
        "            curr_node = curr_node.get_siguiente()\n",
        "            print(\"|\" + str(curr_node.get_dato() ) + \"| -->\" , end =\"\" )\n",
        "        print(\"\\nFin\")\n",
        "        \n",
        "\n",
        "# Ejemplo 1\n",
        "a = Nodo(10)\n",
        "a.show()\n",
        "\n",
        "\n",
        "# ejemplo 2\n",
        "a.set_siguiente( Nodo(20) )\n",
        "a.show()"
      ],
      "execution_count": 1,
      "outputs": [
        {
          "output_type": "stream",
          "text": [
            " Inicio de la estructura ligada:\n",
            "|10| -->\n",
            "Fin\n",
            " Inicio de la estructura ligada:\n",
            "|10| -->|20| -->\n",
            "Fin\n"
          ],
          "name": "stdout"
        }
      ]
    }
  ]
}