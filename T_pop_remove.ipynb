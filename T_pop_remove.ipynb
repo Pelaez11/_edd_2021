{
  "nbformat": 4,
  "nbformat_minor": 0,
  "metadata": {
    "colab": {
      "name": "T-pop/remove.ipynb",
      "provenance": [],
      "collapsed_sections": [],
      "authorship_tag": "ABX9TyMBr3oSoc/KZMUAcl3Xhx4o",
      "include_colab_link": true
    },
    "kernelspec": {
      "name": "python3",
      "display_name": "Python 3"
    }
  },
  "cells": [
    {
      "cell_type": "markdown",
      "metadata": {
        "id": "view-in-github",
        "colab_type": "text"
      },
      "source": [
        "<a href=\"https://colab.research.google.com/github/Pelaez11/_edd_2021/blob/master/T_pop_remove.ipynb\" target=\"_parent\"><img src=\"https://colab.research.google.com/assets/colab-badge.svg\" alt=\"Open In Colab\"/></a>"
      ]
    },
    {
      "cell_type": "code",
      "metadata": {
        "id": "-QNlvmdU5S7D"
      },
      "source": [
        "class Nodo: \n",
        "    def __init__( self, dato, siguiente=None ):\n",
        "        self.dato = dato\n",
        "        self.siguiente = siguiente\n",
        "\n",
        "\n",
        "class LinkedList:\n",
        "    def __init__( self ):\n",
        "        self.__head = None\n",
        "\n",
        "#retorna si la lista esta vacia\n",
        "    def is_empty( self ):\n",
        "        return self.__head == None\n",
        "\n",
        "    def tail( self ):\n",
        "        curr_node = self.__head\n",
        "\n",
        "        while curr_node != None and curr_node.siguiente != None:\n",
        "            curr_node = curr_node.siguiente\n",
        "        return curr_node\n",
        "\n",
        "    def append( self, value):\n",
        "      nuevo = Nodo(value)\n",
        "      if self.__head == None:\n",
        "         self.__head = nuevo\n",
        "      else:\n",
        "        self.tail().siguiente = nuevo\n",
        "\n",
        "    def transversal( self ):\n",
        "      curr_node = self.__head\n",
        "      if curr_node == None:\n",
        "        print(\"Lista vacia\")\n",
        "      else:\n",
        "        while curr_node != None:\n",
        "          print(f\"{ curr_node.dato } ---> \", end=\"\")\n",
        "          curr_node = curr_node.siguiente\n",
        "      print(\"\")    \n",
        "\n",
        "    def prepend(self,value):\n",
        "        nuevo = Nodo(value)\n",
        "        nuevo.siguiente = self.__head\n",
        "        self.__head = nuevo\n",
        "\n",
        "    def remove(self,value):\n",
        "       r = Nodo(value)\n",
        "       curr_node = self.__head\n",
        "       self.__head = r\n",
        "       if r != curr_node:\n",
        "         curr_node = curr_node.siguiente\n",
        "         \n",
        "       else:\n",
        "         while r == curr_node.siguiente:\n",
        "           curr_node = curr_node.siguiente\n",
        "           \n",
        "           \n",
        "\n",
        "    def pop(self,value):\n",
        "      curr_node = self.__head\n",
        "      pos = 1\n",
        "      \n",
        "      if pos != curr_node:\n",
        "        curr_node = curr_node.siguiente\n",
        "      else:\n",
        "        while pos == curr_node:\n",
        "          pos += 1\n",
        "          curr_node = pos\n",
        "          print(f\"La posición de + {curr_node.dato} es {pos.dato} \")\n",
        "          self.__head = pos\n",
        "          \n",
        "          \n",
        "          \n",
        "\n",
        "      \n",
        "  #Tengo más o menos la idea todavía seguiré trabajndo en ello y cuando lo tenga lo actualizo   \n",
        "\n",
        "      \n",
        "       \n",
        "      \n",
        "\n"
      ],
      "execution_count": 247,
      "outputs": []
    },
    {
      "cell_type": "code",
      "metadata": {
        "colab": {
          "base_uri": "https://localhost:8080/"
        },
        "id": "zjzuvuc16g4K",
        "outputId": "2c4108a7-97db-4c68-b8c4-842f21b9172d"
      },
      "source": [
        "l = LinkedList()\n",
        "print(f\"l esta vacia?= { l.is_empty() }\")\n",
        "\n",
        "x = l.tail()\n",
        "print(x)\n",
        "\n",
        "l.append(10)\n",
        "l.append(20)\n",
        "l.append(30)\n",
        "l.append(40)\n",
        "l.transversal()\n",
        "\n",
        "l.prepend(5)\n",
        "l.transversal()\n",
        "print(\"******\")\n",
        "l.remove(30)\n",
        "l.transversal\n",
        "l.pop(1)\n",
        "l.transversal()\n"
      ],
      "execution_count": 248,
      "outputs": [
        {
          "output_type": "stream",
          "text": [
            "l esta vacia?= True\n",
            "None\n",
            "10 ---> 20 ---> 30 ---> 40 ---> \n",
            "5 ---> 10 ---> 20 ---> 30 ---> 40 ---> \n",
            "******\n",
            "30 ---> \n"
          ],
          "name": "stdout"
        }
      ]
    }
  ]
}