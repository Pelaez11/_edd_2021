{
  "nbformat": 4,
  "nbformat_minor": 0,
  "metadata": {
    "colab": {
      "name": "28sep.ipynb",
      "provenance": [],
      "toc_visible": true,
      "authorship_tag": "ABX9TyNZF4ByN1IADJFzpPl9Y8p4",
      "include_colab_link": true
    },
    "kernelspec": {
      "name": "python3",
      "display_name": "Python 3"
    }
  },
  "cells": [
    {
      "cell_type": "markdown",
      "metadata": {
        "id": "view-in-github",
        "colab_type": "text"
      },
      "source": [
        "<a href=\"https://colab.research.google.com/github/Pelaez11/_edd_2021/blob/master/28sep.ipynb\" target=\"_parent\"><img src=\"https://colab.research.google.com/assets/colab-badge.svg\" alt=\"Open In Colab\"/></a>"
      ]
    },
    {
      "cell_type": "code",
      "metadata": {
        "id": "fMVUHK1yXQK6",
        "outputId": "7a2d0447-bdfd-46e0-ac9e-ac61d70846f6",
        "colab": {
          "base_uri": "https://localhost:8080/",
          "height": 34
        }
      },
      "source": [
        "print(\"Hola colab research\")\n",
        "nombre = \"EdD\"\n",
        "val = 10\n"
      ],
      "execution_count": null,
      "outputs": [
        {
          "output_type": "stream",
          "text": [
            "Hola colab research\n"
          ],
          "name": "stdout"
        }
      ]
    },
    {
      "cell_type": "code",
      "metadata": {
        "id": "33DGxfxHYpPN",
        "outputId": "0abbeea9-ede7-4cad-9c08-f4f5f2ac466c",
        "colab": {
          "base_uri": "https://localhost:8080/",
          "height": 51
        }
      },
      "source": [
        "print (nombre)\n",
        "print (val)"
      ],
      "execution_count": null,
      "outputs": [
        {
          "output_type": "stream",
          "text": [
            "EdD\n",
            "10\n"
          ],
          "name": "stdout"
        }
      ]
    },
    {
      "cell_type": "markdown",
      "metadata": {
        "id": "OPlYxODrZsFu"
      },
      "source": [
        "# Hola esto es un encabezdo\n",
        "## Encabezado nivel dos\n",
        "### Sintaxis Markdown\n",
        " * elem 1\n",
        " * elem 2\n",
        " * elem 3\n",
        "\n",
        " 1. fresa\n",
        " 2. manzana\n",
        " 3. pera\n",
        " 4. adasad\n",
        "\n",
        " esto es un texto y quiero poner **negritas** y también quiero poner _italica_.\n",
        " [Ir a google] https://www.google.com\n",
        " \n"
      ]
    },
    {
      "cell_type": "code",
      "metadata": {
        "id": "kVMZfUQycNr6"
      },
      "source": [
        "class Silla():\n",
        "  def __init__(self):\n",
        "    self.material = \"\"\n",
        "    self.color = \"\" \n",
        "\n",
        "  def to_string ( self ):\n",
        "      print( \"-----\")\n",
        "      print( f\"Material: {self.material} \" )\n",
        "      print( f\"{self.color} -----\")"
      ],
      "execution_count": 2,
      "outputs": []
    },
    {
      "cell_type": "code",
      "metadata": {
        "id": "jZWK5Qu-d25f",
        "outputId": "15d21292-ee0d-4226-8423-e62b85f0f077",
        "colab": {
          "base_uri": "https://localhost:8080/",
          "height": 67
        }
      },
      "source": [
        "obj = Silla()\n",
        "obj.materia = \"Madera\"\n",
        "obj.color = \"Cafe\"\n",
        "obj.to_string()"
      ],
      "execution_count": 3,
      "outputs": [
        {
          "output_type": "stream",
          "text": [
            "-----\n",
            "Material:  \n",
            "Cafe -----\n"
          ],
          "name": "stdout"
        }
      ]
    }
  ]
}