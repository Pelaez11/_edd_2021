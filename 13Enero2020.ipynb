{
  "nbformat": 4,
  "nbformat_minor": 0,
  "metadata": {
    "colab": {
      "name": "13Enero2020.ipynb",
      "provenance": [],
      "collapsed_sections": [],
      "authorship_tag": "ABX9TyPJvV14w14Ve3NaYRQra3mF",
      "include_colab_link": true
    },
    "kernelspec": {
      "name": "python3",
      "display_name": "Python 3"
    }
  },
  "cells": [
    {
      "cell_type": "markdown",
      "metadata": {
        "id": "view-in-github",
        "colab_type": "text"
      },
      "source": [
        "<a href=\"https://colab.research.google.com/github/Pelaez11/_edd_2021/blob/master/13Enero2020.ipynb\" target=\"_parent\"><img src=\"https://colab.research.google.com/assets/colab-badge.svg\" alt=\"Open In Colab\"/></a>"
      ]
    },
    {
      "cell_type": "code",
      "metadata": {
        "colab": {
          "base_uri": "https://localhost:8080/"
        },
        "id": "TN86h1cCkl1z",
        "outputId": "ae5ba962-2138-4c54-f895-43f46609c7be"
      },
      "source": [
        "def factorial( n ):\r\n",
        "  if n == 0:\r\n",
        "    return 1\r\n",
        "  else:\r\n",
        "    return factorial(n - 1) * n\r\n",
        "\r\n",
        "print( factorial(4) ) \r\n",
        "print(\"******\")\r\n",
        "\r\n",
        "for num in range(21): # de 0 a 20\r\n",
        "  print( factorial(num) , \"\\n\")\r\n",
        "  "
      ],
      "execution_count": 2,
      "outputs": [
        {
          "output_type": "stream",
          "text": [
            "24\n",
            "******\n",
            "1 \n",
            "\n",
            "1 \n",
            "\n",
            "2 \n",
            "\n",
            "6 \n",
            "\n",
            "24 \n",
            "\n",
            "120 \n",
            "\n",
            "720 \n",
            "\n",
            "5040 \n",
            "\n",
            "40320 \n",
            "\n",
            "362880 \n",
            "\n",
            "3628800 \n",
            "\n",
            "39916800 \n",
            "\n",
            "479001600 \n",
            "\n",
            "6227020800 \n",
            "\n",
            "87178291200 \n",
            "\n",
            "1307674368000 \n",
            "\n",
            "20922789888000 \n",
            "\n",
            "355687428096000 \n",
            "\n",
            "6402373705728000 \n",
            "\n",
            "121645100408832000 \n",
            "\n",
            "2432902008176640000 \n",
            "\n"
          ],
          "name": "stdout"
        }
      ]
    },
    {
      "cell_type": "code",
      "metadata": {
        "colab": {
          "base_uri": "https://localhost:8080/"
        },
        "id": "msqkPGitmlEy",
        "outputId": "c93e3534-2724-4024-dbef-c7fbe3dc8fbd"
      },
      "source": [
        "#De forma descendente \r\n",
        "def printRev( n ): # 3 2 1 // 0 ya no entra ya que solo debe ser mayor a este\r\n",
        "  if n > 0:\r\n",
        "     print( n )\r\n",
        "     printRev( n-1 )\r\n",
        "printRev( 3 )"
      ],
      "execution_count": 13,
      "outputs": [
        {
          "output_type": "stream",
          "text": [
            "3\n",
            "2\n",
            "1\n"
          ],
          "name": "stdout"
        }
      ]
    },
    {
      "cell_type": "code",
      "metadata": {
        "colab": {
          "base_uri": "https://localhost:8080/"
        },
        "id": "SP5JuupGpJXg",
        "outputId": "ba4681a9-30a7-424a-9fa7-1ef43abfd91f"
      },
      "source": [
        "# De forma ascendente\r\n",
        "def printRev( n ): # 1 2 3\r\n",
        "  if n > 0:\r\n",
        "     printRev( n-1 )\r\n",
        "     print( n )\r\n",
        "     \r\n",
        "printRev( 3 )"
      ],
      "execution_count": 14,
      "outputs": [
        {
          "output_type": "stream",
          "text": [
            "1\n",
            "2\n",
            "3\n"
          ],
          "name": "stdout"
        }
      ]
    },
    {
      "cell_type": "code",
      "metadata": {
        "colab": {
          "base_uri": "https://localhost:8080/"
        },
        "id": "Qkb7hG7AqlVH",
        "outputId": "aeadad00-ecb8-4454-adb1-d35729ca0474"
      },
      "source": [
        "# Para toda n siempre es positivio\r\n",
        "def fibonacci( n ):\r\n",
        "  if n == 0:\r\n",
        "    return 0\r\n",
        "  elif n == 1:\r\n",
        "    return 1\r\n",
        "  if n > 1:\r\n",
        "    return fibonacci(n - 1) + fibonacci(n - 2)\r\n",
        "\r\n",
        "for n in range(4):\r\n",
        "    print(fibonacci(n), end=\"\\n\")\r\n",
        "\r\n",
        "\r\n",
        "  \r\n"
      ],
      "execution_count": 29,
      "outputs": [
        {
          "output_type": "stream",
          "text": [
            "0\n",
            "1\n",
            "1\n",
            "2\n"
          ],
          "name": "stdout"
        }
      ]
    }
  ]
}