{
  "nbformat": 4,
  "nbformat_minor": 0,
  "metadata": {
    "colab": {
      "name": "30sep2020.ipynb",
      "provenance": [],
      "authorship_tag": "ABX9TyNBS/3EWo09VsXxUBr8eZ08",
      "include_colab_link": true
    },
    "kernelspec": {
      "name": "python3",
      "display_name": "Python 3"
    }
  },
  "cells": [
    {
      "cell_type": "markdown",
      "metadata": {
        "id": "view-in-github",
        "colab_type": "text"
      },
      "source": [
        "<a href=\"https://colab.research.google.com/github/Pelaez11/_edd_2021/blob/master/30sep2020.ipynb\" target=\"_parent\"><img src=\"https://colab.research.google.com/assets/colab-badge.svg\" alt=\"Open In Colab\"/></a>"
      ]
    },
    {
      "cell_type": "markdown",
      "metadata": {
        "id": "7ihmFKrisgGI"
      },
      "source": [
        "# Fundamentos de Python 3\n",
        "## Tipos de datos básicos\n",
        "edad = 40\n",
        "nombre = \"Juan\"\n",
        "estatura = 1.67\n",
        "tienes_ine = True\n",
        "### *Compuestos\n",
        "\n",
        "\n",
        "#### **Listas\n",
        "Son mutables y se declara con corchetes cuadrados\n",
        "Accede a los elementosvía \"edex\"\n",
        "(Pueden serdiferentes tipos de datos)\n",
        "\n",
        "Lista_ejemplo = [\"manzana\", 1.57, True, [\"rojo\", \"azul\"] ]\n",
        "\n",
        "#### ***Tuplas\n",
        "Son inmutables\n",
        "Se accede a los elementos vía el índice (index)\n",
        "Los elementos pueden ser de diferente tipo de dato.\n",
        "tupla_ejemplo = (\"root\", \"123.322.45.4\", \"15.11\")\n",
        "\n",
        "##### *****Diccionarios\n",
        "Son equivalentes a los JSON de JS.\n",
        "\n",
        "##### ******Sets\n",
        "Son datos agrupados.\n",
        "\n"
      ]
    },
    {
      "cell_type": "code",
      "metadata": {
        "id": "YMvSPEY8u1Zc"
      },
      "source": [
        "lista_ejemplo = [\"manzana\", 1.57, True, [\"rojo\", \"azul\"] ]\n",
        "print(lista_ejemplo[1])\n",
        "print(lista_ejemplo[3])\n",
        "print(lista_ejemplo[3][1])\n",
        "lista_ejemplo[0] = \"Manzana\"\n",
        "print(lista_ejemplo)\n",
        "#Agregar un elemnto al final\n",
        "lista_ejemplo.append(\"iPhone\")\n",
        "print(lista_ejemplo)\n",
        "#Sacar el último elemnto\n",
        "valor = lista_ejemplo.pop()\n",
        "print(valor)\n",
        "print(lista_ejemplo)\n",
        "\n",
        "print(\"***************************\")\n",
        "#Documentación del tipo de dato lista dir() y help()\n",
        "#Con guión bajos (_) son privados\n",
        "dir(list)\n",
        "help(list)\n",
        "print(\"***************************\")\n",
        "\n",
        "lista_ejemplo.insert(1,\"Huawei\")\n",
        "print(lista_ejemplo)\n",
        "print(\"-----------\")\n",
        "#.coun recibe un valor y menciona cuantas veces hay un valor\n",
        "conteo = lista_ejemplo.count(\"Huawei\")\n",
        "print(conteo)\n",
        "print(\"Count-.-.-.-.-.-.-.-.-.\")\n",
        "\n",
        "colores = ['rosa', 'fiusha', 'negro']\n",
        "lista_ejemplo.append(colores)\n",
        "print (lista_ejemplo)\n",
        "\n",
        "print(\"Extends-.-.-.-.-.-.-.-.-.\")\n",
        "\n",
        "#Con extends fuusionan dos listas\n",
        "lista_ejemplo.extend(colores)\n",
        "print(lista_ejemplo)\n",
        "\n"
      ],
      "execution_count": null,
      "outputs": []
    }
  ]
}