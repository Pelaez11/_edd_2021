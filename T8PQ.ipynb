{
  "nbformat": 4,
  "nbformat_minor": 0,
  "metadata": {
    "colab": {
      "name": "T8PQ.ipynb",
      "provenance": [],
      "collapsed_sections": [],
      "authorship_tag": "ABX9TyMbvWLI0tupMmKMs78DLiL6",
      "include_colab_link": true
    },
    "kernelspec": {
      "name": "python3",
      "display_name": "Python 3"
    }
  },
  "cells": [
    {
      "cell_type": "markdown",
      "metadata": {
        "id": "view-in-github",
        "colab_type": "text"
      },
      "source": [
        "<a href=\"https://colab.research.google.com/github/Pelaez11/_edd_2021/blob/master/T8PQ.ipynb\" target=\"_parent\"><img src=\"https://colab.research.google.com/assets/colab-badge.svg\" alt=\"Open In Colab\"/></a>"
      ]
    },
    {
      "cell_type": "code",
      "metadata": {
        "id": "0QH6riLvF_v3"
      },
      "source": [
        "class Queue:\r\n",
        "  def __init__(self):\r\n",
        "    self.__data = list()\r\n",
        "\r\n",
        "  def is_empty(self):\r\n",
        "    return len (self.__data) == 0\r\n",
        "\r\n",
        "  def length (self):\r\n",
        "    return len(self.__data)\r\n",
        "\r\n",
        "  def enqueue(self, item):\r\n",
        "    self.__data.append( item )\r\n",
        "    \r\n",
        "  def dequeue(self):\r\n",
        "    if not self.is_empty():      \r\n",
        "      return self.__data.pop(0)\r\n",
        "    else:\r\n",
        "      return None\r\n",
        "\r\n",
        "  def to_string(self):\r\n",
        "    cadena = \"\"\r\n",
        "    for elem in self.__data:\r\n",
        "      cadena = cadena + \"| \" + elem\r\n",
        "    cadena = cadena + \"|\"\r\n",
        "    return cadena"
      ],
      "execution_count": 30,
      "outputs": []
    },
    {
      "cell_type": "code",
      "metadata": {
        "id": "wUy_uOXWjLCe"
      },
      "source": [
        "class PriorityQueue:\r\n",
        "  def __init__( self, niveles ):\r\n",
        "    self.__data = [ Queue() for x in range(niveles) ]\r\n",
        "    self.__size = 0\r\n",
        "\r\n",
        "  def is_empty( self ):\r\n",
        "    return self.len(self.__data)\r\n",
        "\r\n",
        "  def length( self ):\r\n",
        "    return self.__data\r\n",
        "\r\n",
        "  def enqueue( self, prioridad, elem ):\r\n",
        "    if prioridad < len(self.__data) and prioridad >= 0:\r\n",
        "      self.__data[prioridad].enqueue(elem)\r\n",
        "      self.__size += 1\r\n",
        "    else: \r\n",
        "      while prioridad >= len(self.__data):\r\n",
        "        self.__data.append(Queue())\r\n",
        "      self.__data[prioridad].enqueue(elem)\r\n",
        "      self.__size += 1\r\n",
        "\r\n",
        "  def dequeue( self ):\r\n",
        "    if not self.is_empty():\r\n",
        "      nivel = 0\r\n",
        "      while self.__data[nivel].is_empty():\r\n",
        "        nivel += 1\r\n",
        "      return self.__data[nivel].dequeue()\r\n",
        "\r\n",
        "  def to_string( self ):\r\n",
        "    for nivel in range( len(self.__data) ):\r\n",
        "      print(f\"Nivel { nivel } --> {self.__data[nivel].to_string()}\")"
      ],
      "execution_count": 41,
      "outputs": []
    },
    {
      "cell_type": "code",
      "metadata": {
        "colab": {
          "base_uri": "https://localhost:8080/"
        },
        "id": "M2PeS6TLvbij",
        "outputId": "f9ba6cc3-3aef-47e4-fa54-2d3e91eeab9b"
      },
      "source": [
        "eqv = PriorityQueue(7)\r\n",
        "\"\"\"\r\n",
        "Prioridad    Nombre\r\n",
        "3            Gaby \r\n",
        "6            Yolo\r\n",
        "4            Paola\r\n",
        "5            Alejandra\r\n",
        "1            Zaira\r\n",
        "2            Daniela\r\n",
        "0            Erandi\r\n",
        "\"\"\"\r\n",
        "eqv.enqueue(3, \"Gaby\")\r\n",
        "eqv.enqueue(6, \"Yolo\")\r\n",
        "eqv.enqueue(4, \"Paola\")\r\n",
        "eqv.enqueue(5, \"Alejandra\")\r\n",
        "eqv.enqueue(1, \"Zaira\")\r\n",
        "eqv.enqueue(2, \"Daniela\")\r\n",
        "eqv.enqueue(0, \"Erandi\")\r\n",
        "eqv.to_string()\r\n",
        "\r\n",
        "\r\n",
        "\r\n",
        "    "
      ],
      "execution_count": 42,
      "outputs": [
        {
          "output_type": "stream",
          "text": [
            "Nivel 0 --> | Erandi|\n",
            "Nivel 1 --> | Zaira|\n",
            "Nivel 2 --> | Daniela|\n",
            "Nivel 3 --> | Gaby|\n",
            "Nivel 4 --> | Paola|\n",
            "Nivel 5 --> | Alejandra|\n",
            "Nivel 6 --> | Yolo|\n"
          ],
          "name": "stdout"
        }
      ]
    }
  ]
}